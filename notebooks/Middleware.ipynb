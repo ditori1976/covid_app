{
 "cells": [
  {
   "cell_type": "code",
   "execution_count": 1,
   "metadata": {},
   "outputs": [],
   "source": [
    "%load_ext autoreload"
   ]
  },
  {
   "cell_type": "code",
   "execution_count": 2,
   "metadata": {},
   "outputs": [
    {
     "output_type": "stream",
     "name": "stdout",
     "text": "/Users/goldstein/Python/covid_app/notebooks\nModules to reload:\nall-except-skipped\n\nModules to skip:\n\n"
    }
   ],
   "source": [
    "%autoreload 2\n",
    "\n",
    "import pandas as pd\n",
    "\n",
    "from tools import DataLoader\n",
    "from configparser import ConfigParser\n",
    "\n",
    "# configuration\n",
    "parser = ConfigParser()\n",
    "parser.read(\"../settings.ini\")\n",
    "data = DataLoader(parser)\n",
    "import pathlib\n",
    "print(pathlib.Path().absolute())\n",
    "%aimport"
   ]
  },
  {
   "cell_type": "code",
   "execution_count": 9,
   "metadata": {},
   "outputs": [
    {
     "output_type": "execute_result",
     "data": {
      "text/plain": "17100000.0"
     },
     "metadata": {},
     "execution_count": 9
    }
   ],
   "source": [
    "data.latest_data(\"cases\").area.max()\n"
   ]
  },
  {
   "cell_type": "code",
   "execution_count": 12,
   "metadata": {},
   "outputs": [
    {
     "output_type": "execute_result",
     "data": {
      "text/plain": "0.3453525007048093"
     },
     "metadata": {},
     "execution_count": 12
    }
   ],
   "source": [
    "import math\n",
    "17-math.log(data.latest_data(\"cases\").area.max()+1000)"
   ]
  },
  {
   "cell_type": "code",
   "execution_count": 5,
   "metadata": {},
   "outputs": [
    {
     "output_type": "execute_result",
     "data": {
      "text/plain": "'daily cases'"
     },
     "metadata": {},
     "execution_count": 5
    }
   ],
   "source": [
    "indicator_name = data.indicators()[\"daily_cases\"][\"name\"]\n",
    "indicator_name"
   ]
  },
  {
   "cell_type": "code",
   "execution_count": 6,
   "metadata": {},
   "outputs": [
    {
     "output_type": "execute_result",
     "data": {
      "text/plain": "         date region   iso3  deaths    cases  recovered  population continent  \\\n0  2020-01-22  World  False      17      555         28  7527061250     World   \n1  2020-01-23  World  False      18      654         30  7527061250     World   \n2  2020-01-24  World  False      26      941         36  7527061250     World   \n3  2020-01-25  World  False      42     1434         39  7527061250     World   \n4  2020-01-26  World  False      56     2118         52  7527061250     World   \n..        ...    ...    ...     ...      ...        ...         ...       ...   \n93 2020-04-24  World  False  196691  2810372     789343  7527061250     World   \n94 2020-04-25  World  False  202841  2896393     817100  7527061250     World   \n95 2020-04-26  World  False  206541  2971132     864995  7527061250     World   \n96 2020-04-27  World  False  211140  3040533     893229  7527061250     World   \n97 2020-04-28  World  False  217126  3115167     927920  7527061250     World   \n\n    daily cases  \n0           NaN  \n1          99.0  \n2         287.0  \n3         493.0  \n4         684.0  \n..          ...  \n93     103861.0  \n94      86021.0  \n95      74739.0  \n96      69401.0  \n97      74634.0  \n\n[98 rows x 9 columns]",
      "text/html": "<div>\n<style scoped>\n    .dataframe tbody tr th:only-of-type {\n        vertical-align: middle;\n    }\n\n    .dataframe tbody tr th {\n        vertical-align: top;\n    }\n\n    .dataframe thead th {\n        text-align: right;\n    }\n</style>\n<table border=\"1\" class=\"dataframe\">\n  <thead>\n    <tr style=\"text-align: right;\">\n      <th></th>\n      <th>date</th>\n      <th>region</th>\n      <th>iso3</th>\n      <th>deaths</th>\n      <th>cases</th>\n      <th>recovered</th>\n      <th>population</th>\n      <th>continent</th>\n      <th>daily cases</th>\n    </tr>\n  </thead>\n  <tbody>\n    <tr>\n      <th>0</th>\n      <td>2020-01-22</td>\n      <td>World</td>\n      <td>False</td>\n      <td>17</td>\n      <td>555</td>\n      <td>28</td>\n      <td>7527061250</td>\n      <td>World</td>\n      <td>NaN</td>\n    </tr>\n    <tr>\n      <th>1</th>\n      <td>2020-01-23</td>\n      <td>World</td>\n      <td>False</td>\n      <td>18</td>\n      <td>654</td>\n      <td>30</td>\n      <td>7527061250</td>\n      <td>World</td>\n      <td>99.0</td>\n    </tr>\n    <tr>\n      <th>2</th>\n      <td>2020-01-24</td>\n      <td>World</td>\n      <td>False</td>\n      <td>26</td>\n      <td>941</td>\n      <td>36</td>\n      <td>7527061250</td>\n      <td>World</td>\n      <td>287.0</td>\n    </tr>\n    <tr>\n      <th>3</th>\n      <td>2020-01-25</td>\n      <td>World</td>\n      <td>False</td>\n      <td>42</td>\n      <td>1434</td>\n      <td>39</td>\n      <td>7527061250</td>\n      <td>World</td>\n      <td>493.0</td>\n    </tr>\n    <tr>\n      <th>4</th>\n      <td>2020-01-26</td>\n      <td>World</td>\n      <td>False</td>\n      <td>56</td>\n      <td>2118</td>\n      <td>52</td>\n      <td>7527061250</td>\n      <td>World</td>\n      <td>684.0</td>\n    </tr>\n    <tr>\n      <th>...</th>\n      <td>...</td>\n      <td>...</td>\n      <td>...</td>\n      <td>...</td>\n      <td>...</td>\n      <td>...</td>\n      <td>...</td>\n      <td>...</td>\n      <td>...</td>\n    </tr>\n    <tr>\n      <th>93</th>\n      <td>2020-04-24</td>\n      <td>World</td>\n      <td>False</td>\n      <td>196691</td>\n      <td>2810372</td>\n      <td>789343</td>\n      <td>7527061250</td>\n      <td>World</td>\n      <td>103861.0</td>\n    </tr>\n    <tr>\n      <th>94</th>\n      <td>2020-04-25</td>\n      <td>World</td>\n      <td>False</td>\n      <td>202841</td>\n      <td>2896393</td>\n      <td>817100</td>\n      <td>7527061250</td>\n      <td>World</td>\n      <td>86021.0</td>\n    </tr>\n    <tr>\n      <th>95</th>\n      <td>2020-04-26</td>\n      <td>World</td>\n      <td>False</td>\n      <td>206541</td>\n      <td>2971132</td>\n      <td>864995</td>\n      <td>7527061250</td>\n      <td>World</td>\n      <td>74739.0</td>\n    </tr>\n    <tr>\n      <th>96</th>\n      <td>2020-04-27</td>\n      <td>World</td>\n      <td>False</td>\n      <td>211140</td>\n      <td>3040533</td>\n      <td>893229</td>\n      <td>7527061250</td>\n      <td>World</td>\n      <td>69401.0</td>\n    </tr>\n    <tr>\n      <th>97</th>\n      <td>2020-04-28</td>\n      <td>World</td>\n      <td>False</td>\n      <td>217126</td>\n      <td>3115167</td>\n      <td>927920</td>\n      <td>7527061250</td>\n      <td>World</td>\n      <td>74634.0</td>\n    </tr>\n  </tbody>\n</table>\n<p>98 rows × 9 columns</p>\n</div>"
     },
     "metadata": {},
     "execution_count": 6
    }
   ],
   "source": [
    "data_selected = data.select(\"World\", data.indicators()[\"daily_cases\"])\n",
    "data_selected"
   ]
  },
  {
   "cell_type": "code",
   "execution_count": 29,
   "metadata": {},
   "outputs": [
    {
     "output_type": "stream",
     "name": "stdout",
     "text": "CPU times: user 4 µs, sys: 0 ns, total: 4 µs\nWall time: 9.3 µs\n"
    }
   ],
   "source": [
    "%%time\n",
    "a =[1234.]"
   ]
  },
  {
   "cell_type": "code",
   "execution_count": 6,
   "metadata": {},
   "outputs": [],
   "source": [
    "indicators = data.indicators()"
   ]
  },
  {
   "cell_type": "code",
   "execution_count": 86,
   "metadata": {},
   "outputs": [
    {
     "output_type": "execute_result",
     "data": {
      "text/plain": "         date region   iso3  deaths    cases  recovered  population continent\n0  2020-01-22     AF  False       0        0          0  1264761817        AF\n1  2020-01-22     AS  False      17      554         28  4474285900        AS\n2  2020-01-22     EU  False       0        0          0   745571470        EU\n3  2020-01-22     NA  False       0        1          0   578407428        NA\n4  2020-01-22     OC  False       0        0          0    40635640        OC\n..        ...    ...    ...     ...      ...        ...         ...       ...\n82 2020-04-13  World  False  119461  1903834     447978  7527061250     World\n83 2020-04-14  World  False  125961  1975083     473556  7527061250     World\n84 2020-04-15  World  False  134154  2054946     510314  7527061250     World\n85 2020-04-16  World  False  143775  2151476     541384  7527061250     World\n86 2020-04-17  World  False  153794  2238989     567615  7527061250     World\n\n[609 rows x 8 columns]",
      "text/html": "<div>\n<style scoped>\n    .dataframe tbody tr th:only-of-type {\n        vertical-align: middle;\n    }\n\n    .dataframe tbody tr th {\n        vertical-align: top;\n    }\n\n    .dataframe thead th {\n        text-align: right;\n    }\n</style>\n<table border=\"1\" class=\"dataframe\">\n  <thead>\n    <tr style=\"text-align: right;\">\n      <th></th>\n      <th>date</th>\n      <th>region</th>\n      <th>iso3</th>\n      <th>deaths</th>\n      <th>cases</th>\n      <th>recovered</th>\n      <th>population</th>\n      <th>continent</th>\n    </tr>\n  </thead>\n  <tbody>\n    <tr>\n      <th>0</th>\n      <td>2020-01-22</td>\n      <td>AF</td>\n      <td>False</td>\n      <td>0</td>\n      <td>0</td>\n      <td>0</td>\n      <td>1264761817</td>\n      <td>AF</td>\n    </tr>\n    <tr>\n      <th>1</th>\n      <td>2020-01-22</td>\n      <td>AS</td>\n      <td>False</td>\n      <td>17</td>\n      <td>554</td>\n      <td>28</td>\n      <td>4474285900</td>\n      <td>AS</td>\n    </tr>\n    <tr>\n      <th>2</th>\n      <td>2020-01-22</td>\n      <td>EU</td>\n      <td>False</td>\n      <td>0</td>\n      <td>0</td>\n      <td>0</td>\n      <td>745571470</td>\n      <td>EU</td>\n    </tr>\n    <tr>\n      <th>3</th>\n      <td>2020-01-22</td>\n      <td>NA</td>\n      <td>False</td>\n      <td>0</td>\n      <td>1</td>\n      <td>0</td>\n      <td>578407428</td>\n      <td>NA</td>\n    </tr>\n    <tr>\n      <th>4</th>\n      <td>2020-01-22</td>\n      <td>OC</td>\n      <td>False</td>\n      <td>0</td>\n      <td>0</td>\n      <td>0</td>\n      <td>40635640</td>\n      <td>OC</td>\n    </tr>\n    <tr>\n      <th>...</th>\n      <td>...</td>\n      <td>...</td>\n      <td>...</td>\n      <td>...</td>\n      <td>...</td>\n      <td>...</td>\n      <td>...</td>\n      <td>...</td>\n    </tr>\n    <tr>\n      <th>82</th>\n      <td>2020-04-13</td>\n      <td>World</td>\n      <td>False</td>\n      <td>119461</td>\n      <td>1903834</td>\n      <td>447978</td>\n      <td>7527061250</td>\n      <td>World</td>\n    </tr>\n    <tr>\n      <th>83</th>\n      <td>2020-04-14</td>\n      <td>World</td>\n      <td>False</td>\n      <td>125961</td>\n      <td>1975083</td>\n      <td>473556</td>\n      <td>7527061250</td>\n      <td>World</td>\n    </tr>\n    <tr>\n      <th>84</th>\n      <td>2020-04-15</td>\n      <td>World</td>\n      <td>False</td>\n      <td>134154</td>\n      <td>2054946</td>\n      <td>510314</td>\n      <td>7527061250</td>\n      <td>World</td>\n    </tr>\n    <tr>\n      <th>85</th>\n      <td>2020-04-16</td>\n      <td>World</td>\n      <td>False</td>\n      <td>143775</td>\n      <td>2151476</td>\n      <td>541384</td>\n      <td>7527061250</td>\n      <td>World</td>\n    </tr>\n    <tr>\n      <th>86</th>\n      <td>2020-04-17</td>\n      <td>World</td>\n      <td>False</td>\n      <td>153794</td>\n      <td>2238989</td>\n      <td>567615</td>\n      <td>7527061250</td>\n      <td>World</td>\n    </tr>\n  </tbody>\n</table>\n<p>609 rows × 8 columns</p>\n</div>"
     },
     "metadata": {},
     "execution_count": 86
    }
   ],
   "source": [
    "regions = data.regions\n",
    "list(regions.keys())\n",
    "data.timeseries[data.timeseries.region.isin(list(regions.keys()))]"
   ]
  },
  {
   "cell_type": "code",
   "execution_count": 10,
   "metadata": {},
   "outputs": [
    {
     "output_type": "execute_result",
     "data": {
      "text/plain": "            date region iso3  ...  population  continent  cases/1M capita\n15036 2020-04-15     US  USA  ...   327167434         NA            195.0\n15037 2020-04-16     US  USA  ...   327167434         NA            204.0\n15038 2020-04-17     US  USA  ...   327167434         NA            214.0\n15039 2020-04-18     US  USA  ...   327167434         NA            224.0\n15040 2020-04-19     US  USA  ...   327167434         NA            232.0\n\n[5 rows x 9 columns]",
      "text/html": "<div>\n<style scoped>\n    .dataframe tbody tr th:only-of-type {\n        vertical-align: middle;\n    }\n\n    .dataframe tbody tr th {\n        vertical-align: top;\n    }\n\n    .dataframe thead th {\n        text-align: right;\n    }\n</style>\n<table border=\"1\" class=\"dataframe\">\n  <thead>\n    <tr style=\"text-align: right;\">\n      <th></th>\n      <th>date</th>\n      <th>region</th>\n      <th>iso3</th>\n      <th>deaths</th>\n      <th>cases</th>\n      <th>recovered</th>\n      <th>population</th>\n      <th>continent</th>\n      <th>cases/1M capita</th>\n    </tr>\n  </thead>\n  <tbody>\n    <tr>\n      <th>15036</th>\n      <td>2020-04-15</td>\n      <td>US</td>\n      <td>USA</td>\n      <td>28325</td>\n      <td>636350</td>\n      <td>52096</td>\n      <td>327167434</td>\n      <td>NA</td>\n      <td>195.0</td>\n    </tr>\n    <tr>\n      <th>15037</th>\n      <td>2020-04-16</td>\n      <td>US</td>\n      <td>USA</td>\n      <td>32916</td>\n      <td>667592</td>\n      <td>54703</td>\n      <td>327167434</td>\n      <td>NA</td>\n      <td>204.0</td>\n    </tr>\n    <tr>\n      <th>15038</th>\n      <td>2020-04-17</td>\n      <td>US</td>\n      <td>USA</td>\n      <td>36773</td>\n      <td>699706</td>\n      <td>58545</td>\n      <td>327167434</td>\n      <td>NA</td>\n      <td>214.0</td>\n    </tr>\n    <tr>\n      <th>15039</th>\n      <td>2020-04-18</td>\n      <td>US</td>\n      <td>USA</td>\n      <td>38664</td>\n      <td>732197</td>\n      <td>64840</td>\n      <td>327167434</td>\n      <td>NA</td>\n      <td>224.0</td>\n    </tr>\n    <tr>\n      <th>15040</th>\n      <td>2020-04-19</td>\n      <td>US</td>\n      <td>USA</td>\n      <td>40661</td>\n      <td>759086</td>\n      <td>70337</td>\n      <td>327167434</td>\n      <td>NA</td>\n      <td>232.0</td>\n    </tr>\n  </tbody>\n</table>\n</div>"
     },
     "metadata": {},
     "execution_count": 10
    }
   ],
   "source": [
    "data.select(\"US\", indicators[\"cases_capita\"]).tail()# data.assign(test=lambda x: x.region)"
   ]
  },
  {
   "cell_type": "code",
   "execution_count": 11,
   "metadata": {},
   "outputs": [
    {
     "output_type": "execute_result",
     "data": {
      "text/plain": "         date region   iso3  deaths  cases  recovered  population continent\n0  2020-01-22     AF  False       0      0          0  1264761817        AF\n6  2020-01-23     AF  False       0      0          0  1264761817        AF\n12 2020-01-24     AF  False       0      0          0  1264761817        AF",
      "text/html": "<div>\n<style scoped>\n    .dataframe tbody tr th:only-of-type {\n        vertical-align: middle;\n    }\n\n    .dataframe tbody tr th {\n        vertical-align: top;\n    }\n\n    .dataframe thead th {\n        text-align: right;\n    }\n</style>\n<table border=\"1\" class=\"dataframe\">\n  <thead>\n    <tr style=\"text-align: right;\">\n      <th></th>\n      <th>date</th>\n      <th>region</th>\n      <th>iso3</th>\n      <th>deaths</th>\n      <th>cases</th>\n      <th>recovered</th>\n      <th>population</th>\n      <th>continent</th>\n    </tr>\n  </thead>\n  <tbody>\n    <tr>\n      <th>0</th>\n      <td>2020-01-22</td>\n      <td>AF</td>\n      <td>False</td>\n      <td>0</td>\n      <td>0</td>\n      <td>0</td>\n      <td>1264761817</td>\n      <td>AF</td>\n    </tr>\n    <tr>\n      <th>6</th>\n      <td>2020-01-23</td>\n      <td>AF</td>\n      <td>False</td>\n      <td>0</td>\n      <td>0</td>\n      <td>0</td>\n      <td>1264761817</td>\n      <td>AF</td>\n    </tr>\n    <tr>\n      <th>12</th>\n      <td>2020-01-24</td>\n      <td>AF</td>\n      <td>False</td>\n      <td>0</td>\n      <td>0</td>\n      <td>0</td>\n      <td>1264761817</td>\n      <td>AF</td>\n    </tr>\n  </tbody>\n</table>\n</div>"
     },
     "metadata": {},
     "execution_count": 11
    }
   ],
   "source": [
    "data.timeseries[data.timeseries.region==\"AF\"].head(3)"
   ]
  },
  {
   "cell_type": "code",
   "execution_count": 13,
   "metadata": {},
   "outputs": [
    {
     "output_type": "execute_result",
     "data": {
      "text/plain": "'cases/1M capita'"
     },
     "metadata": {},
     "execution_count": 13
    }
   ],
   "source": [
    "indicators = data.indicators()\n",
    "indicators[\"cases_capita\"][\"name\"]"
   ]
  }
 ],
 "metadata": {
  "language_info": {
   "name": "python",
   "codemirror_mode": {
    "name": "ipython",
    "version": 3
   },
   "version": "3.7.7-final"
  },
  "orig_nbformat": 2,
  "file_extension": ".py",
  "mimetype": "text/x-python",
  "name": "python",
  "npconvert_exporter": "python",
  "pygments_lexer": "ipython3",
  "version": 3,
  "kernelspec": {
   "name": "python37764bitvenvcovidappvenvdec448b7499a496b82740a9af93e4c30",
   "display_name": "Python 3.7.7 64-bit ('venv-covid_app': venv)"
  }
 },
 "nbformat": 4,
 "nbformat_minor": 2
}