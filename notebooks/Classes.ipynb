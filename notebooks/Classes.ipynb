{
 "cells": [
  {
   "cell_type": "code",
   "execution_count": 1,
   "metadata": {},
   "outputs": [],
   "source": [
    "%load_ext autoreload"
   ]
  },
  {
   "cell_type": "code",
   "execution_count": null,
   "metadata": {},
   "outputs": [],
   "source": [
    "data_load.data.columns.any() in ['date', 'region', 'iso3', 'Lat', 'Lon', 'deaths', 'cases', 'recovered']\n"
   ]
  },
  {
   "cell_type": "code",
   "execution_count": 2,
   "metadata": {},
   "outputs": [
    {
     "output_type": "execute_result",
     "data": {
      "text/plain": "datetime.datetime(2020, 5, 8, 11, 47, 20, 157348)"
     },
     "metadata": {},
     "execution_count": 2
    }
   ],
   "source": [
    "%autoreload 2\n",
    "from application.data.data_loader import DataLoader\n",
    "from configparser import ConfigParser\n",
    "import pandas as pd\n",
    "parser = ConfigParser()\n",
    "parser.read(\"settings.ini\")\n",
    "data_load = DataLoader(parser)\n",
    "data_load.load_data()\n",
    "data_load.latest_load"
   ]
  },
  {
   "cell_type": "code",
   "execution_count": 4,
   "metadata": {},
   "outputs": [
    {
     "output_type": "execute_result",
     "data": {
      "text/plain": "2"
     },
     "metadata": {},
     "execution_count": 4
    }
   ],
   "source": [
    "len(data_load.countries)"
   ]
  },
  {
   "cell_type": "code",
   "execution_count": 20,
   "metadata": {},
   "outputs": [
    {
     "output_type": "stream",
     "name": "stdout",
     "text": "not\n"
    }
   ],
   "source": [
    "class A():\n",
    "    def foo(self):\n",
    "        try:\n",
    "            self.testb()\n",
    "        except:\n",
    "            print(\"not\")\n",
    "\n",
    "class B(A):\n",
    "    def testb(self):\n",
    "        print('lol, it works')\n",
    "b = A()\n",
    "b.foo()"
   ]
  },
  {
   "cell_type": "code",
   "execution_count": 36,
   "metadata": {},
   "outputs": [],
   "source": [
    "# domain#\n",
    "class Country:\n",
    "    def __init__(self, Rank,name,pop2019,pop2018,GrowthRate,area,Density):\n",
    "        self.Rank=Rank\n",
    "        self.name=name\n",
    "        self.pop2019=pop2019\n",
    "        self.pop2018=pop2018\n",
    "        self.GrowthRate=GrowthRate\n",
    "        self.area=area\n",
    "        self.Density=Density\n",
    "\n",
    "    def to_dict(self):\n",
    "        return {\n",
    "            \"Rank\":self.Rank,\n",
    "            \"name\":self.name,\n",
    "            \"pop2019\":self.pop2019,\n",
    "            \"pop2018\":self.pop2018,\n",
    "            \"GrowthRate\":self.GrowthRate,\n",
    "            \"area\":self.area,\n",
    "            \"Density\":self.Density\n",
    "\n",
    "        }\n",
    "\n",
    "\n"
   ]
  },
  {
   "cell_type": "code",
   "execution_count": 37,
   "metadata": {},
   "outputs": [
    {
     "output_type": "execute_result",
     "data": {
      "text/plain": "1234123"
     },
     "metadata": {},
     "execution_count": 37
    }
   ],
   "source": [
    "country = Country(1,\"test\", 12,13,0.32,1234123,22)\n",
    "country.area"
   ]
  },
  {
   "cell_type": "code",
   "execution_count": 38,
   "metadata": {},
   "outputs": [
    {
     "output_type": "error",
     "ename": "SyntaxError",
     "evalue": "unexpected EOF while parsing (<ipython-input-38-7124c446d206>, line 6)",
     "traceback": [
      "\u001b[0;36m  File \u001b[0;32m\"<ipython-input-38-7124c446d206>\"\u001b[0;36m, line \u001b[0;32m6\u001b[0m\n\u001b[0;31m    \u001b[0m\n\u001b[0m    ^\u001b[0m\n\u001b[0;31mSyntaxError\u001b[0m\u001b[0;31m:\u001b[0m unexpected EOF while parsing\n"
     ]
    }
   ],
   "source": [
    "class Loader(Country):\n",
    "    def __init__(self, Rank,name,pop2019,pop2018,GrowthRate,area,Density):\n",
    "        super().__init__(Rank,name,pop2019,pop2018,GrowthRate,area,Density)\n",
    "\n",
    "    def load_data(self):\n",
    "        "
   ]
  },
  {
   "cell_type": "code",
   "execution_count": 47,
   "metadata": {},
   "outputs": [
    {
     "output_type": "execute_result",
     "data": {
      "text/plain": "9706961.0"
     },
     "metadata": {},
     "execution_count": 47
    }
   ],
   "source": [
    "data = pd.read_csv(\"test.csv\", index_col=0)\n",
    "\n",
    "countries = [Country(**kwargs) for kwargs in data.to_dict(orient='records')]\n",
    "countries[0].area"
   ]
  },
  {
   "cell_type": "code",
   "execution_count": 33,
   "metadata": {},
   "outputs": [
    {
     "output_type": "execute_result",
     "data": {
      "text/plain": "1234123"
     },
     "metadata": {},
     "execution_count": 33
    }
   ],
   "source": [
    "countries = Loader(1,\"test\", 12,13,0.32,1234123,22)\n",
    "countries.area"
   ]
  },
  {
   "cell_type": "code",
   "execution_count": 24,
   "metadata": {},
   "outputs": [
    {
     "output_type": "stream",
     "name": "stdout",
     "text": "Hello, and welcome!\n"
    }
   ],
   "source": [
    "class Parent:\n",
    "    def __init__(self, txt):\n",
    "        self.message = txt\n",
    "\n",
    "    def printmessage(self):\n",
    "        print(self.message)\n",
    "\n",
    "class Child(Parent):\n",
    "    def __init__(self, txt):\n",
    "        super().__init__(txt)\n",
    "\n",
    "x = Child(\"Hello, and welcome!\")\n",
    "\n",
    "x.printmessage()"
   ]
  },
  {
   "cell_type": "code",
   "execution_count": null,
   "metadata": {},
   "outputs": [],
   "source": [
    "data_load = DataLoader(parser)\n",
    "data_load.load_data()\n",
    "data_load.latest_load"
   ]
  },
  {
   "cell_type": "code",
   "execution_count": null,
   "metadata": {},
   "outputs": [],
   "source": [
    "from datetime import datetime\n",
    "import pandas as pd\n",
    "from configparser import ConfigParser\n",
    "from urllib.request import urlopen\n",
    "import requests\n",
    "import json\n",
    "from bs4 import BeautifulSoup    "
   ]
  },
  {
   "cell_type": "code",
   "execution_count": null,
   "metadata": {},
   "outputs": [],
   "source": [
    "class DataLoader:\n",
    "    def __init__(self, parser: ConfigParser):\n",
    "        \n",
    "        self.latest_load = None\n",
    "        self.data = None\n",
    "    def load_data(self):\n",
    "        # local, external\n",
    "\n",
    "        def load_jhu():\n",
    "            error_msg = \"cannot load jhu data, no url provided\"\n",
    "            try:\n",
    "                lookup_table = pd.read_csv(parser.get(\"urls\", \"jhu_lookup_url\"))\n",
    "                lookup_table.rename(\n",
    "                    columns={\"Country_Region\": \"region\", \"Long_\": \"Lon\"}, inplace=True\n",
    "                )\n",
    "                return lookup_table\n",
    "            except:\n",
    "                print(error_msg)\n",
    "                return None\n",
    "            \n",
    "            if lookup_table:\n",
    "                def read_prepare_data(url):\n",
    "                    try:\n",
    "                        data_raw = pd.read_csv(parser.get(\"urlss\", url))\n",
    "                        data_raw.rename(columns={\"Country/Region\": \"region\"}, inplace=True)\n",
    "                        data = (\n",
    "                            data_raw.groupby(\"region\")\n",
    "                            .sum()\n",
    "                            .drop(columns=[\"Lat\", \"Long\"])\n",
    "                            .reset_index()\n",
    "                        )\n",
    "\n",
    "                        return data\n",
    "                    except:\n",
    "                        print(error_msg)\n",
    "                        return None\n",
    "                \n",
    "                def create_timeseries(data, lookup_table, value_name):\n",
    "                    try:\n",
    "                        \n",
    "                        id_vars = \"region\"\n",
    "                        var_name = \"date\"\n",
    "                        timeseries = pd.melt(\n",
    "                            data, id_vars=id_vars, var_name=var_name, value_name=value_name\n",
    "                        )\n",
    "                        timeseries = pd.merge(\n",
    "                            lookup_table[[\"iso2\", \"iso3\", \"code3\", \"Lat\", \"Lon\", id_vars]]\n",
    "                            .groupby(id_vars)\n",
    "                            .first(),\n",
    "                            timeseries,\n",
    "                            on=id_vars,\n",
    "                            how=\"inner\",\n",
    "                        )\n",
    "                        timeseries.loc[:, var_name] = pd.to_datetime(timeseries.loc[:, var_name])\n",
    "                        return timeseries\n",
    "                    except:\n",
    "                        print(error_msg)\n",
    "                        return None\n",
    "                        \n",
    "\n",
    "                confirmed_data = read_prepare_data(\"jhu_confirmed_url\")\n",
    "                deaths_data = read_prepare_data(\"jhu_deaths_url\")\n",
    "                recovered_data = read_prepare_data(\"jhu_recovered_url\")\n",
    "\n",
    "                confirmed = create_timeseries(confirmed_data, lookup, \"confirmed\")\n",
    "                deaths = create_timeseries(deaths_data, lookup, \"deaths\")\n",
    "                recovered = create_timeseries(recovered_data, lookup, \"recovered\")\n",
    "\n",
    "                data = pd.merge(\n",
    "                    deaths[[\"date\", \"region\", \"iso3\", \"Lat\", \"Lon\", \"deaths\"]],\n",
    "                    confirmed[[\"date\", \"confirmed\", \"iso3\"]],\n",
    "                    on=[\"iso3\", \"date\"],\n",
    "                    how=\"inner\",\n",
    "                )\n",
    "                data = pd.merge(\n",
    "                    data,\n",
    "                    recovered[[\"date\", \"recovered\", \"iso3\"]],\n",
    "                    on=[\"iso3\", \"date\"],\n",
    "                    how=\"inner\",\n",
    "                )\n",
    "\n",
    "                data.rename(columns={\"confirmed\": \"cases\"}, inplace=True)\n",
    "\n",
    "                return data\n",
    "                \n",
    "            else:\n",
    "                print(error)\n",
    "                return None\n",
    "            \n",
    "                \n",
    "                \n",
    "        self.latest_load = datetime.now()\n",
    "        self.data = load_jhu()\n",
    "    def prepare(self):\n",
    "        # join tables, create timeseries\n",
    "        pass\n",
    "    def write_data(self):\n",
    "        # to csv\n",
    "        if self.data is not None:\n",
    "            self.data.to_csv(\"test.csv\")\n",
    "        else:\n",
    "            print(\"nothing to write\")"
   ]
  },
  {
   "cell_type": "code",
   "execution_count": null,
   "metadata": {},
   "outputs": [],
   "source": [
    "parser = ConfigParser()\n",
    "parser.read(\"settings.ini\")\n",
    "parser\n"
   ]
  },
  {
   "cell_type": "code",
   "execution_count": null,
   "metadata": {},
   "outputs": [],
   "source": [
    "parser.get(\"urls\", \"jhu_lookup_url\")"
   ]
  },
  {
   "cell_type": "code",
   "execution_count": null,
   "metadata": {},
   "outputs": [],
   "source": [
    "url = \"https://raw.githubusercontent.com/ditori1976/covid_app/master/data/countries.csv\"\n",
    "load = Loader(url)\n",
    "load.load_data()\n",
    "print(load.latest_load)\n",
    "print(load.data.head())\n",
    "load.write_data()"
   ]
  },
  {
   "cell_type": "code",
   "execution_count": null,
   "metadata": {},
   "outputs": [],
   "source": [
    "load = Loader()\n",
    "load.load_data()\n",
    "load.write_data()"
   ]
  },
  {
   "cell_type": "code",
   "execution_count": null,
   "metadata": {},
   "outputs": [],
   "source": [
    "class Data(Loader):\n",
    "    def __init__(self):\n",
    "        super().__init__(self)"
   ]
  },
  {
   "cell_type": "code",
   "execution_count": null,
   "metadata": {},
   "outputs": [],
   "source": [
    "data = Data()\n",
    "\n",
    "print(data.latest_load) # latest_load not callable!\n",
    "\n",
    "data.__dict__#.keys()\n"
   ]
  }
 ],
 "metadata": {
  "kernelspec": {
   "display_name": "Python 3.7.7 64-bit ('venv-covid_app': venv)",
   "language": "python",
   "name": "python37764bitvenvcovidappvenvdec448b7499a496b82740a9af93e4c30"
  },
  "language_info": {
   "codemirror_mode": {
    "name": "ipython",
    "version": 3
   },
   "file_extension": ".py",
   "mimetype": "text/x-python",
   "name": "python",
   "nbconvert_exporter": "python",
   "pygments_lexer": "ipython3",
   "version": "3.7.7-final"
  }
 },
 "nbformat": 4,
 "nbformat_minor": 2
}