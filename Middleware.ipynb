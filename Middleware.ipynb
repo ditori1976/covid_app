{
 "nbformat": 4,
 "nbformat_minor": 2,
 "metadata": {
  "language_info": {
   "name": "python",
   "codemirror_mode": {
    "name": "ipython",
    "version": 3
   },
   "version": "3.7.7-final"
  },
  "orig_nbformat": 2,
  "file_extension": ".py",
  "mimetype": "text/x-python",
  "name": "python",
  "npconvert_exporter": "python",
  "pygments_lexer": "ipython3",
  "version": 3,
  "kernelspec": {
   "name": "python3",
   "display_name": "Python 3"
  }
 },
 "cells": [
  {
   "cell_type": "code",
   "execution_count": 1,
   "metadata": {},
   "outputs": [],
   "source": [
    "%load_ext autoreload"
   ]
  },
  {
   "cell_type": "code",
   "execution_count": 76,
   "metadata": {},
   "outputs": [
    {
     "output_type": "stream",
     "name": "stdout",
     "text": "cases\ndeaths\nModules to reload:\nall-except-skipped\n\nModules to skip:\n\n"
    }
   ],
   "source": [
    "%autoreload 2\n",
    "\n",
    "import pandas as pd\n",
    "\n",
    "from tools import DataLoader\n",
    "from configparser import ConfigParser\n",
    "\n",
    "# configuration\n",
    "parser = ConfigParser()\n",
    "parser.read(\"settings.ini\")\n",
    "data = DataLoader(parser)\n",
    "%aimport"
   ]
  },
  {
   "cell_type": "code",
   "execution_count": 44,
   "metadata": {},
   "outputs": [
    {
     "output_type": "stream",
     "name": "stdout",
     "text": "CPU times: user 2.15 s, sys: 62.9 ms, total: 2.21 s\nWall time: 6.67 s\n"
    }
   ],
   "source": [
    "%%time\n",
    "data = DataLoader(parser)"
   ]
  },
  {
   "cell_type": "code",
   "execution_count": 20,
   "metadata": {},
   "outputs": [],
   "source": [
    "indicators = data.indicators()"
   ]
  },
  {
   "cell_type": "code",
   "execution_count": 86,
   "metadata": {},
   "outputs": [
    {
     "output_type": "execute_result",
     "data": {
      "text/plain": "         date region   iso3  deaths    cases  recovered  population continent\n0  2020-01-22     AF  False       0        0          0  1264761817        AF\n1  2020-01-22     AS  False      17      554         28  4474285900        AS\n2  2020-01-22     EU  False       0        0          0   745571470        EU\n3  2020-01-22     NA  False       0        1          0   578407428        NA\n4  2020-01-22     OC  False       0        0          0    40635640        OC\n..        ...    ...    ...     ...      ...        ...         ...       ...\n82 2020-04-13  World  False  119461  1903834     447978  7527061250     World\n83 2020-04-14  World  False  125961  1975083     473556  7527061250     World\n84 2020-04-15  World  False  134154  2054946     510314  7527061250     World\n85 2020-04-16  World  False  143775  2151476     541384  7527061250     World\n86 2020-04-17  World  False  153794  2238989     567615  7527061250     World\n\n[609 rows x 8 columns]",
      "text/html": "<div>\n<style scoped>\n    .dataframe tbody tr th:only-of-type {\n        vertical-align: middle;\n    }\n\n    .dataframe tbody tr th {\n        vertical-align: top;\n    }\n\n    .dataframe thead th {\n        text-align: right;\n    }\n</style>\n<table border=\"1\" class=\"dataframe\">\n  <thead>\n    <tr style=\"text-align: right;\">\n      <th></th>\n      <th>date</th>\n      <th>region</th>\n      <th>iso3</th>\n      <th>deaths</th>\n      <th>cases</th>\n      <th>recovered</th>\n      <th>population</th>\n      <th>continent</th>\n    </tr>\n  </thead>\n  <tbody>\n    <tr>\n      <th>0</th>\n      <td>2020-01-22</td>\n      <td>AF</td>\n      <td>False</td>\n      <td>0</td>\n      <td>0</td>\n      <td>0</td>\n      <td>1264761817</td>\n      <td>AF</td>\n    </tr>\n    <tr>\n      <th>1</th>\n      <td>2020-01-22</td>\n      <td>AS</td>\n      <td>False</td>\n      <td>17</td>\n      <td>554</td>\n      <td>28</td>\n      <td>4474285900</td>\n      <td>AS</td>\n    </tr>\n    <tr>\n      <th>2</th>\n      <td>2020-01-22</td>\n      <td>EU</td>\n      <td>False</td>\n      <td>0</td>\n      <td>0</td>\n      <td>0</td>\n      <td>745571470</td>\n      <td>EU</td>\n    </tr>\n    <tr>\n      <th>3</th>\n      <td>2020-01-22</td>\n      <td>NA</td>\n      <td>False</td>\n      <td>0</td>\n      <td>1</td>\n      <td>0</td>\n      <td>578407428</td>\n      <td>NA</td>\n    </tr>\n    <tr>\n      <th>4</th>\n      <td>2020-01-22</td>\n      <td>OC</td>\n      <td>False</td>\n      <td>0</td>\n      <td>0</td>\n      <td>0</td>\n      <td>40635640</td>\n      <td>OC</td>\n    </tr>\n    <tr>\n      <th>...</th>\n      <td>...</td>\n      <td>...</td>\n      <td>...</td>\n      <td>...</td>\n      <td>...</td>\n      <td>...</td>\n      <td>...</td>\n      <td>...</td>\n    </tr>\n    <tr>\n      <th>82</th>\n      <td>2020-04-13</td>\n      <td>World</td>\n      <td>False</td>\n      <td>119461</td>\n      <td>1903834</td>\n      <td>447978</td>\n      <td>7527061250</td>\n      <td>World</td>\n    </tr>\n    <tr>\n      <th>83</th>\n      <td>2020-04-14</td>\n      <td>World</td>\n      <td>False</td>\n      <td>125961</td>\n      <td>1975083</td>\n      <td>473556</td>\n      <td>7527061250</td>\n      <td>World</td>\n    </tr>\n    <tr>\n      <th>84</th>\n      <td>2020-04-15</td>\n      <td>World</td>\n      <td>False</td>\n      <td>134154</td>\n      <td>2054946</td>\n      <td>510314</td>\n      <td>7527061250</td>\n      <td>World</td>\n    </tr>\n    <tr>\n      <th>85</th>\n      <td>2020-04-16</td>\n      <td>World</td>\n      <td>False</td>\n      <td>143775</td>\n      <td>2151476</td>\n      <td>541384</td>\n      <td>7527061250</td>\n      <td>World</td>\n    </tr>\n    <tr>\n      <th>86</th>\n      <td>2020-04-17</td>\n      <td>World</td>\n      <td>False</td>\n      <td>153794</td>\n      <td>2238989</td>\n      <td>567615</td>\n      <td>7527061250</td>\n      <td>World</td>\n    </tr>\n  </tbody>\n</table>\n<p>609 rows × 8 columns</p>\n</div>"
     },
     "metadata": {},
     "execution_count": 86
    }
   ],
   "source": [
    "regions = data.regions\n",
    "list(regions.keys())\n",
    "data.timeseries[data.timeseries.region.isin(list(regions.keys()))]"
   ]
  },
  {
   "cell_type": "code",
   "execution_count": 77,
   "metadata": {},
   "outputs": [
    {
     "output_type": "execute_result",
     "data": {
      "text/plain": "           date   region iso3  deaths   cases  recovered  population  \\\n5654 2020-04-17  Germany  DEU    4352  141397      83114    82927922   \n\n     continent  daily cases  daily deaths  cases/1M capita  deaths/1M capita  \\\n5654        EU       3699.0         300.0            171.0               5.2   \n\n      recovered(%)  lethality(%)  mortality(‰)  recovered/deaths(%)  \n5654          59.0          3.08          0.05              1909.79  ",
      "text/html": "<div>\n<style scoped>\n    .dataframe tbody tr th:only-of-type {\n        vertical-align: middle;\n    }\n\n    .dataframe tbody tr th {\n        vertical-align: top;\n    }\n\n    .dataframe thead th {\n        text-align: right;\n    }\n</style>\n<table border=\"1\" class=\"dataframe\">\n  <thead>\n    <tr style=\"text-align: right;\">\n      <th></th>\n      <th>date</th>\n      <th>region</th>\n      <th>iso3</th>\n      <th>deaths</th>\n      <th>cases</th>\n      <th>recovered</th>\n      <th>population</th>\n      <th>continent</th>\n      <th>daily cases</th>\n      <th>daily deaths</th>\n      <th>cases/1M capita</th>\n      <th>deaths/1M capita</th>\n      <th>recovered(%)</th>\n      <th>lethality(%)</th>\n      <th>mortality(‰)</th>\n      <th>recovered/deaths(%)</th>\n    </tr>\n  </thead>\n  <tbody>\n    <tr>\n      <th>5654</th>\n      <td>2020-04-17</td>\n      <td>Germany</td>\n      <td>DEU</td>\n      <td>4352</td>\n      <td>141397</td>\n      <td>83114</td>\n      <td>82927922</td>\n      <td>EU</td>\n      <td>3699.0</td>\n      <td>300.0</td>\n      <td>171.0</td>\n      <td>5.2</td>\n      <td>59.0</td>\n      <td>3.08</td>\n      <td>0.05</td>\n      <td>1909.79</td>\n    </tr>\n  </tbody>\n</table>\n</div>"
     },
     "metadata": {},
     "execution_count": 77
    }
   ],
   "source": [
    "test = data.latest#.sort_values([\"region\", \"date\"])\n",
    "#test[\"test\"] = test.loc[:,\"deaths\"].diff()\n",
    "#test = test[test.date==test.date.max()]\n",
    "test[test.region==\"Germany\"]"
   ]
  },
  {
   "cell_type": "code",
   "execution_count": 170,
   "metadata": {},
   "outputs": [
    {
     "output_type": "execute_result",
     "data": {
      "text/plain": "            date region iso3  deaths   cases  recovered  population continent  \\\n14698 2020-04-13     US  USA   23528  580619      43482   327167434        NA   \n14699 2020-04-14     US  USA   25831  607670      47763   327167434        NA   \n14700 2020-04-15     US  USA   28325  636350      52096   327167434        NA   \n14701 2020-04-16     US  USA   32916  667801      54703   327167434        NA   \n14702 2020-04-17     US  USA   36773  699706      58545   327167434        NA   \n\n       cases/1M capita  \n14698            177.0  \n14699            186.0  \n14700            195.0  \n14701            204.0  \n14702            214.0  ",
      "text/html": "<div>\n<style scoped>\n    .dataframe tbody tr th:only-of-type {\n        vertical-align: middle;\n    }\n\n    .dataframe tbody tr th {\n        vertical-align: top;\n    }\n\n    .dataframe thead th {\n        text-align: right;\n    }\n</style>\n<table border=\"1\" class=\"dataframe\">\n  <thead>\n    <tr style=\"text-align: right;\">\n      <th></th>\n      <th>date</th>\n      <th>region</th>\n      <th>iso3</th>\n      <th>deaths</th>\n      <th>cases</th>\n      <th>recovered</th>\n      <th>population</th>\n      <th>continent</th>\n      <th>cases/1M capita</th>\n    </tr>\n  </thead>\n  <tbody>\n    <tr>\n      <th>14698</th>\n      <td>2020-04-13</td>\n      <td>US</td>\n      <td>USA</td>\n      <td>23528</td>\n      <td>580619</td>\n      <td>43482</td>\n      <td>327167434</td>\n      <td>NA</td>\n      <td>177.0</td>\n    </tr>\n    <tr>\n      <th>14699</th>\n      <td>2020-04-14</td>\n      <td>US</td>\n      <td>USA</td>\n      <td>25831</td>\n      <td>607670</td>\n      <td>47763</td>\n      <td>327167434</td>\n      <td>NA</td>\n      <td>186.0</td>\n    </tr>\n    <tr>\n      <th>14700</th>\n      <td>2020-04-15</td>\n      <td>US</td>\n      <td>USA</td>\n      <td>28325</td>\n      <td>636350</td>\n      <td>52096</td>\n      <td>327167434</td>\n      <td>NA</td>\n      <td>195.0</td>\n    </tr>\n    <tr>\n      <th>14701</th>\n      <td>2020-04-16</td>\n      <td>US</td>\n      <td>USA</td>\n      <td>32916</td>\n      <td>667801</td>\n      <td>54703</td>\n      <td>327167434</td>\n      <td>NA</td>\n      <td>204.0</td>\n    </tr>\n    <tr>\n      <th>14702</th>\n      <td>2020-04-17</td>\n      <td>US</td>\n      <td>USA</td>\n      <td>36773</td>\n      <td>699706</td>\n      <td>58545</td>\n      <td>327167434</td>\n      <td>NA</td>\n      <td>214.0</td>\n    </tr>\n  </tbody>\n</table>\n</div>"
     },
     "metadata": {},
     "execution_count": 170
    }
   ],
   "source": [
    "data.select(\"US\", indicators[\"cases_capita\"]).tail()# data.assign(test=lambda x: x.region)"
   ]
  },
  {
   "cell_type": "code",
   "execution_count": 142,
   "metadata": {},
   "outputs": [],
   "source": [
    "test = data.data.copy()\n"
   ]
  },
  {
   "cell_type": "code",
   "execution_count": 150,
   "metadata": {},
   "outputs": [
    {
     "output_type": "error",
     "ename": "SyntaxError",
     "evalue": "keyword can't be an expression (<ipython-input-150-6a02c706dfa3>, line 1)",
     "traceback": [
      "\u001b[0;36m  File \u001b[0;32m\"<ipython-input-150-6a02c706dfa3>\"\u001b[0;36m, line \u001b[0;32m1\u001b[0m\n\u001b[0;31m    test = test.assign(\"test\"=lambda x: x.region)\u001b[0m\n\u001b[0m                      ^\u001b[0m\n\u001b[0;31mSyntaxError\u001b[0m\u001b[0;31m:\u001b[0m keyword can't be an expression\n"
     ]
    }
   ],
   "source": [
    "test = test.assign(\"test\"=lambda x: x.region)"
   ]
  },
  {
   "cell_type": "code",
   "execution_count": 149,
   "metadata": {},
   "outputs": [
    {
     "output_type": "execute_result",
     "data": {
      "text/plain": "            date       region iso3  deaths  cases  recovered  population  \\\n0     2020-01-22  Afghanistan  AFG       0      0          0    37172386   \n1     2020-01-23  Afghanistan  AFG       0      0          0    37172386   \n2     2020-01-24  Afghanistan  AFG       0      0          0    37172386   \n3     2020-01-25  Afghanistan  AFG       0      0          0    37172386   \n4     2020-01-26  Afghanistan  AFG       0      0          0    37172386   \n...          ...          ...  ...     ...    ...        ...         ...   \n15829 2020-04-13     Zimbabwe  ZWE       3     17          0    14439018   \n15830 2020-04-14     Zimbabwe  ZWE       3     17          0    14439018   \n15831 2020-04-15     Zimbabwe  ZWE       3     23          1    14439018   \n15832 2020-04-16     Zimbabwe  ZWE       3     23          1    14439018   \n15833 2020-04-17     Zimbabwe  ZWE       3     24          2    14439018   \n\n      continent         test  \n0            AS  Afghanistan  \n1            AS  Afghanistan  \n2            AS  Afghanistan  \n3            AS  Afghanistan  \n4            AS  Afghanistan  \n...         ...          ...  \n15829        AF     Zimbabwe  \n15830        AF     Zimbabwe  \n15831        AF     Zimbabwe  \n15832        AF     Zimbabwe  \n15833        AF     Zimbabwe  \n\n[15834 rows x 9 columns]",
      "text/html": "<div>\n<style scoped>\n    .dataframe tbody tr th:only-of-type {\n        vertical-align: middle;\n    }\n\n    .dataframe tbody tr th {\n        vertical-align: top;\n    }\n\n    .dataframe thead th {\n        text-align: right;\n    }\n</style>\n<table border=\"1\" class=\"dataframe\">\n  <thead>\n    <tr style=\"text-align: right;\">\n      <th></th>\n      <th>date</th>\n      <th>region</th>\n      <th>iso3</th>\n      <th>deaths</th>\n      <th>cases</th>\n      <th>recovered</th>\n      <th>population</th>\n      <th>continent</th>\n      <th>test</th>\n    </tr>\n  </thead>\n  <tbody>\n    <tr>\n      <th>0</th>\n      <td>2020-01-22</td>\n      <td>Afghanistan</td>\n      <td>AFG</td>\n      <td>0</td>\n      <td>0</td>\n      <td>0</td>\n      <td>37172386</td>\n      <td>AS</td>\n      <td>Afghanistan</td>\n    </tr>\n    <tr>\n      <th>1</th>\n      <td>2020-01-23</td>\n      <td>Afghanistan</td>\n      <td>AFG</td>\n      <td>0</td>\n      <td>0</td>\n      <td>0</td>\n      <td>37172386</td>\n      <td>AS</td>\n      <td>Afghanistan</td>\n    </tr>\n    <tr>\n      <th>2</th>\n      <td>2020-01-24</td>\n      <td>Afghanistan</td>\n      <td>AFG</td>\n      <td>0</td>\n      <td>0</td>\n      <td>0</td>\n      <td>37172386</td>\n      <td>AS</td>\n      <td>Afghanistan</td>\n    </tr>\n    <tr>\n      <th>3</th>\n      <td>2020-01-25</td>\n      <td>Afghanistan</td>\n      <td>AFG</td>\n      <td>0</td>\n      <td>0</td>\n      <td>0</td>\n      <td>37172386</td>\n      <td>AS</td>\n      <td>Afghanistan</td>\n    </tr>\n    <tr>\n      <th>4</th>\n      <td>2020-01-26</td>\n      <td>Afghanistan</td>\n      <td>AFG</td>\n      <td>0</td>\n      <td>0</td>\n      <td>0</td>\n      <td>37172386</td>\n      <td>AS</td>\n      <td>Afghanistan</td>\n    </tr>\n    <tr>\n      <th>...</th>\n      <td>...</td>\n      <td>...</td>\n      <td>...</td>\n      <td>...</td>\n      <td>...</td>\n      <td>...</td>\n      <td>...</td>\n      <td>...</td>\n      <td>...</td>\n    </tr>\n    <tr>\n      <th>15829</th>\n      <td>2020-04-13</td>\n      <td>Zimbabwe</td>\n      <td>ZWE</td>\n      <td>3</td>\n      <td>17</td>\n      <td>0</td>\n      <td>14439018</td>\n      <td>AF</td>\n      <td>Zimbabwe</td>\n    </tr>\n    <tr>\n      <th>15830</th>\n      <td>2020-04-14</td>\n      <td>Zimbabwe</td>\n      <td>ZWE</td>\n      <td>3</td>\n      <td>17</td>\n      <td>0</td>\n      <td>14439018</td>\n      <td>AF</td>\n      <td>Zimbabwe</td>\n    </tr>\n    <tr>\n      <th>15831</th>\n      <td>2020-04-15</td>\n      <td>Zimbabwe</td>\n      <td>ZWE</td>\n      <td>3</td>\n      <td>23</td>\n      <td>1</td>\n      <td>14439018</td>\n      <td>AF</td>\n      <td>Zimbabwe</td>\n    </tr>\n    <tr>\n      <th>15832</th>\n      <td>2020-04-16</td>\n      <td>Zimbabwe</td>\n      <td>ZWE</td>\n      <td>3</td>\n      <td>23</td>\n      <td>1</td>\n      <td>14439018</td>\n      <td>AF</td>\n      <td>Zimbabwe</td>\n    </tr>\n    <tr>\n      <th>15833</th>\n      <td>2020-04-17</td>\n      <td>Zimbabwe</td>\n      <td>ZWE</td>\n      <td>3</td>\n      <td>24</td>\n      <td>2</td>\n      <td>14439018</td>\n      <td>AF</td>\n      <td>Zimbabwe</td>\n    </tr>\n  </tbody>\n</table>\n<p>15834 rows × 9 columns</p>\n</div>"
     },
     "metadata": {},
     "execution_count": 149
    }
   ],
   "source": [
    "test"
   ]
  },
  {
   "cell_type": "code",
   "execution_count": 85,
   "metadata": {},
   "outputs": [
    {
     "output_type": "execute_result",
     "data": {
      "text/plain": "14616        NaN\n14617        0.0\n14618        1.0\n14619        0.0\n14620        3.0\n          ...   \n14698    25306.0\n14699    27051.0\n14700    28680.0\n14701    31451.0\n14702    31905.0\nName: cases, Length: 87, dtype: float64"
     },
     "metadata": {},
     "execution_count": 85
    }
   ],
   "source": [
    "(data.timeseries[data.timeseries.region == \"US\"].cases.round(1)*1).diff()"
   ]
  },
  {
   "cell_type": "code",
   "execution_count": 87,
   "metadata": {},
   "outputs": [
    {
     "output_type": "execute_result",
     "data": {
      "text/plain": "         date region   iso3  deaths  cases  recovered  population continent  \\\n0  2020-01-22     AF  False       0      0          0  1264761817        AF   \n6  2020-01-23     AF  False       0      0          0  1264761817        AF   \n12 2020-01-24     AF  False       0      0          0  1264761817        AF   \n\n    daily cases  daily deaths  cases/1M capita  deaths/1M capita  \\\n0           NaN           NaN              0.0               0.0   \n6           0.0           0.0              0.0               0.0   \n12          0.0           0.0              0.0               0.0   \n\n    recovered(%)  lethality(%)  mortality(‰)  recovered/deaths(%)  \n0            NaN           NaN           0.0                  NaN  \n6            NaN           NaN           0.0                  NaN  \n12           NaN           NaN           0.0                  NaN  ",
      "text/html": "<div>\n<style scoped>\n    .dataframe tbody tr th:only-of-type {\n        vertical-align: middle;\n    }\n\n    .dataframe tbody tr th {\n        vertical-align: top;\n    }\n\n    .dataframe thead th {\n        text-align: right;\n    }\n</style>\n<table border=\"1\" class=\"dataframe\">\n  <thead>\n    <tr style=\"text-align: right;\">\n      <th></th>\n      <th>date</th>\n      <th>region</th>\n      <th>iso3</th>\n      <th>deaths</th>\n      <th>cases</th>\n      <th>recovered</th>\n      <th>population</th>\n      <th>continent</th>\n      <th>daily cases</th>\n      <th>daily deaths</th>\n      <th>cases/1M capita</th>\n      <th>deaths/1M capita</th>\n      <th>recovered(%)</th>\n      <th>lethality(%)</th>\n      <th>mortality(‰)</th>\n      <th>recovered/deaths(%)</th>\n    </tr>\n  </thead>\n  <tbody>\n    <tr>\n      <th>0</th>\n      <td>2020-01-22</td>\n      <td>AF</td>\n      <td>False</td>\n      <td>0</td>\n      <td>0</td>\n      <td>0</td>\n      <td>1264761817</td>\n      <td>AF</td>\n      <td>NaN</td>\n      <td>NaN</td>\n      <td>0.0</td>\n      <td>0.0</td>\n      <td>NaN</td>\n      <td>NaN</td>\n      <td>0.0</td>\n      <td>NaN</td>\n    </tr>\n    <tr>\n      <th>6</th>\n      <td>2020-01-23</td>\n      <td>AF</td>\n      <td>False</td>\n      <td>0</td>\n      <td>0</td>\n      <td>0</td>\n      <td>1264761817</td>\n      <td>AF</td>\n      <td>0.0</td>\n      <td>0.0</td>\n      <td>0.0</td>\n      <td>0.0</td>\n      <td>NaN</td>\n      <td>NaN</td>\n      <td>0.0</td>\n      <td>NaN</td>\n    </tr>\n    <tr>\n      <th>12</th>\n      <td>2020-01-24</td>\n      <td>AF</td>\n      <td>False</td>\n      <td>0</td>\n      <td>0</td>\n      <td>0</td>\n      <td>1264761817</td>\n      <td>AF</td>\n      <td>0.0</td>\n      <td>0.0</td>\n      <td>0.0</td>\n      <td>0.0</td>\n      <td>NaN</td>\n      <td>NaN</td>\n      <td>0.0</td>\n      <td>NaN</td>\n    </tr>\n  </tbody>\n</table>\n</div>"
     },
     "metadata": {},
     "execution_count": 87
    }
   ],
   "source": [
    "data.timeseries[data.timeseries.region==\"AF\"].head(3)"
   ]
  },
  {
   "cell_type": "code",
   "execution_count": 89,
   "metadata": {},
   "outputs": [
    {
     "output_type": "execute_result",
     "data": {
      "text/plain": "          date region   iso3  deaths    cases  recovered  population  \\\n516 2020-04-17     AF  False    1016    19773       4604  1264761817   \n517 2020-04-17     AS  False   14054   357416     170058  4474285900   \n518 2020-04-17     EU  False   96281  1031490     289505   745571470   \n\n    continent  daily cases  daily deaths  cases/1M capita  deaths/1M capita  \\\n516        AF     -47365.0       -2011.0              2.0               0.1   \n517        AS     337643.0       13038.0              8.0               0.3   \n518        EU     674074.0       82227.0            138.0              12.9   \n\n     recovered(%)  lethality(%)  mortality(‰)  recovered/deaths(%)  \n516          23.0          5.14          0.00               453.15  \n517          48.0          3.93          0.00              1210.03  \n518          28.0          9.33          0.13               300.69  ",
      "text/html": "<div>\n<style scoped>\n    .dataframe tbody tr th:only-of-type {\n        vertical-align: middle;\n    }\n\n    .dataframe tbody tr th {\n        vertical-align: top;\n    }\n\n    .dataframe thead th {\n        text-align: right;\n    }\n</style>\n<table border=\"1\" class=\"dataframe\">\n  <thead>\n    <tr style=\"text-align: right;\">\n      <th></th>\n      <th>date</th>\n      <th>region</th>\n      <th>iso3</th>\n      <th>deaths</th>\n      <th>cases</th>\n      <th>recovered</th>\n      <th>population</th>\n      <th>continent</th>\n      <th>daily cases</th>\n      <th>daily deaths</th>\n      <th>cases/1M capita</th>\n      <th>deaths/1M capita</th>\n      <th>recovered(%)</th>\n      <th>lethality(%)</th>\n      <th>mortality(‰)</th>\n      <th>recovered/deaths(%)</th>\n    </tr>\n  </thead>\n  <tbody>\n    <tr>\n      <th>516</th>\n      <td>2020-04-17</td>\n      <td>AF</td>\n      <td>False</td>\n      <td>1016</td>\n      <td>19773</td>\n      <td>4604</td>\n      <td>1264761817</td>\n      <td>AF</td>\n      <td>-47365.0</td>\n      <td>-2011.0</td>\n      <td>2.0</td>\n      <td>0.1</td>\n      <td>23.0</td>\n      <td>5.14</td>\n      <td>0.00</td>\n      <td>453.15</td>\n    </tr>\n    <tr>\n      <th>517</th>\n      <td>2020-04-17</td>\n      <td>AS</td>\n      <td>False</td>\n      <td>14054</td>\n      <td>357416</td>\n      <td>170058</td>\n      <td>4474285900</td>\n      <td>AS</td>\n      <td>337643.0</td>\n      <td>13038.0</td>\n      <td>8.0</td>\n      <td>0.3</td>\n      <td>48.0</td>\n      <td>3.93</td>\n      <td>0.00</td>\n      <td>1210.03</td>\n    </tr>\n    <tr>\n      <th>518</th>\n      <td>2020-04-17</td>\n      <td>EU</td>\n      <td>False</td>\n      <td>96281</td>\n      <td>1031490</td>\n      <td>289505</td>\n      <td>745571470</td>\n      <td>EU</td>\n      <td>674074.0</td>\n      <td>82227.0</td>\n      <td>138.0</td>\n      <td>12.9</td>\n      <td>28.0</td>\n      <td>9.33</td>\n      <td>0.13</td>\n      <td>300.69</td>\n    </tr>\n  </tbody>\n</table>\n</div>"
     },
     "metadata": {},
     "execution_count": 89
    }
   ],
   "source": [
    "latest_data = data.timeseries[data.timeseries.date==data.timeseries.date.max()]\n",
    "latest_data.head(3)"
   ]
  },
  {
   "cell_type": "code",
   "execution_count": 91,
   "metadata": {},
   "outputs": [],
   "source": [
    "indicator = \"cases\"\n",
    "region = \"France\"\n",
    "continent = \"EU\"\n",
    "# continent can be taken from region\n",
    "# choose from map: region\n",
    "# choose from tab: continent\n",
    ""
   ]
  },
  {
   "cell_type": "code",
   "execution_count": 93,
   "metadata": {},
   "outputs": [
    {
     "output_type": "execute_result",
     "data": {
      "text/plain": "         date region   iso3  deaths  cases  recovered  population continent  \\\n2  2020-01-22     EU  False       0      0          0   745571470        EU   \n8  2020-01-23     EU  False       0      0          0   745571470        EU   \n14 2020-01-24     EU  False       0      2          0   745571470        EU   \n\n    daily cases  daily deaths  cases/1M capita  deaths/1M capita  \\\n2        -554.0         -17.0              0.0               0.0   \n8        -653.0         -18.0              0.0               0.0   \n14       -935.0         -26.0              0.0               0.0   \n\n    recovered(%)  lethality(%)  mortality(‰)  recovered/deaths(%)  \n2            NaN           NaN           0.0                  NaN  \n8            NaN           NaN           0.0                  NaN  \n14           0.0           0.0           0.0                  NaN  ",
      "text/html": "<div>\n<style scoped>\n    .dataframe tbody tr th:only-of-type {\n        vertical-align: middle;\n    }\n\n    .dataframe tbody tr th {\n        vertical-align: top;\n    }\n\n    .dataframe thead th {\n        text-align: right;\n    }\n</style>\n<table border=\"1\" class=\"dataframe\">\n  <thead>\n    <tr style=\"text-align: right;\">\n      <th></th>\n      <th>date</th>\n      <th>region</th>\n      <th>iso3</th>\n      <th>deaths</th>\n      <th>cases</th>\n      <th>recovered</th>\n      <th>population</th>\n      <th>continent</th>\n      <th>daily cases</th>\n      <th>daily deaths</th>\n      <th>cases/1M capita</th>\n      <th>deaths/1M capita</th>\n      <th>recovered(%)</th>\n      <th>lethality(%)</th>\n      <th>mortality(‰)</th>\n      <th>recovered/deaths(%)</th>\n    </tr>\n  </thead>\n  <tbody>\n    <tr>\n      <th>2</th>\n      <td>2020-01-22</td>\n      <td>EU</td>\n      <td>False</td>\n      <td>0</td>\n      <td>0</td>\n      <td>0</td>\n      <td>745571470</td>\n      <td>EU</td>\n      <td>-554.0</td>\n      <td>-17.0</td>\n      <td>0.0</td>\n      <td>0.0</td>\n      <td>NaN</td>\n      <td>NaN</td>\n      <td>0.0</td>\n      <td>NaN</td>\n    </tr>\n    <tr>\n      <th>8</th>\n      <td>2020-01-23</td>\n      <td>EU</td>\n      <td>False</td>\n      <td>0</td>\n      <td>0</td>\n      <td>0</td>\n      <td>745571470</td>\n      <td>EU</td>\n      <td>-653.0</td>\n      <td>-18.0</td>\n      <td>0.0</td>\n      <td>0.0</td>\n      <td>NaN</td>\n      <td>NaN</td>\n      <td>0.0</td>\n      <td>NaN</td>\n    </tr>\n    <tr>\n      <th>14</th>\n      <td>2020-01-24</td>\n      <td>EU</td>\n      <td>False</td>\n      <td>0</td>\n      <td>2</td>\n      <td>0</td>\n      <td>745571470</td>\n      <td>EU</td>\n      <td>-935.0</td>\n      <td>-26.0</td>\n      <td>0.0</td>\n      <td>0.0</td>\n      <td>0.0</td>\n      <td>0.0</td>\n      <td>0.0</td>\n      <td>NaN</td>\n    </tr>\n  </tbody>\n</table>\n</div>"
     },
     "metadata": {},
     "execution_count": 93
    }
   ],
   "source": [
    "timeseries_EU = data.timeseries[data.timeseries.region==\"EU\"].head(3)\n",
    "timeseries_EU"
   ]
  },
  {
   "cell_type": "code",
   "execution_count": 95,
   "metadata": {},
   "outputs": [
    {
     "output_type": "execute_result",
     "data": {
      "text/plain": "14616    NA\nName: continent, dtype: object"
     },
     "metadata": {},
     "execution_count": 95
    }
   ],
   "source": [
    "timeseries_France = data.timeseries[data.timeseries.region==\"US\"]\n",
    "timeseries_France.continent.head(1)"
   ]
  },
  {
   "cell_type": "code",
   "execution_count": 97,
   "metadata": {},
   "outputs": [],
   "source": [
    "a= [{'prop_id': 'title-continent.children', 'value': 'World'}]"
   ]
  },
  {
   "cell_type": "code",
   "execution_count": 99,
   "metadata": {},
   "outputs": [],
   "source": [
    "a=[\"value\"]"
   ]
  },
  {
   "cell_type": "code",
   "execution_count": 101,
   "metadata": {},
   "outputs": [],
   "source": [
    "b= [{'prop_id': 'title-continent.children', 'value': 'World'}, {'prop_id': 'title-region.children', 'value': ['World']}]"
   ]
  },
  {
   "cell_type": "code",
   "execution_count": 103,
   "metadata": {},
   "outputs": [],
   "source": [
    "c=[{'prop_id': 'title-region.children', 'value': ['France']}, {'prop_id': 'title-continent.children', 'value': 'EU'}]"
   ]
  },
  {
   "cell_type": "code",
   "execution_count": 105,
   "metadata": {},
   "outputs": [
    {
     "output_type": "execute_result",
     "data": {
      "text/plain": "True"
     },
     "metadata": {},
     "execution_count": 105
    }
   ],
   "source": [
    "type(c[0][\"value\"]) == list"
   ]
  },
  {
   "cell_type": "code",
   "execution_count": 107,
   "metadata": {},
   "outputs": [
    {
     "output_type": "execute_result",
     "data": {
      "text/plain": "'cases/1M capita'"
     },
     "metadata": {},
     "execution_count": 107
    }
   ],
   "source": [
    "indicators = data.indicators()\n",
    "indicators[\"cases_capita\"][\"name\"]"
   ]
  },
  {
   "cell_type": "code",
   "execution_count": 109,
   "metadata": {},
   "outputs": [
    {
     "output_type": "execute_result",
     "data": {
      "text/plain": "            date region iso3  deaths  cases  recovered  population continent  \\\n14616 2020-01-22     US  USA       0      1          0   327167434        NA   \n14617 2020-01-23     US  USA       0      1          0   327167434        NA   \n14618 2020-01-24     US  USA       0      2          0   327167434        NA   \n14619 2020-01-25     US  USA       0      2          0   327167434        NA   \n14620 2020-01-26     US  USA       0      5          0   327167434        NA   \n14621 2020-01-27     US  USA       0      5          0   327167434        NA   \n14622 2020-01-28     US  USA       0      5          0   327167434        NA   \n14623 2020-01-29     US  USA       0      5          0   327167434        NA   \n14624 2020-01-30     US  USA       0      5          0   327167434        NA   \n14625 2020-01-31     US  USA       0      7          0   327167434        NA   \n\n       daily cases  daily deaths  cases/1M capita  deaths/1M capita  \\\n14616          NaN       -1769.0              0.0               0.0   \n14617          0.0           0.0              0.0               0.0   \n14618          1.0           0.0              0.0               0.0   \n14619          0.0           0.0              0.0               0.0   \n14620          3.0           0.0              0.0               0.0   \n14621          0.0           0.0              0.0               0.0   \n14622          0.0           0.0              0.0               0.0   \n14623          0.0           0.0              0.0               0.0   \n14624          0.0           0.0              0.0               0.0   \n14625          2.0           0.0              0.0               0.0   \n\n       recovered(%)  lethality(%)  mortality(‰)  recovered/deaths(%)  \n14616           0.0           0.0           0.0                  NaN  \n14617           0.0           0.0           0.0                  NaN  \n14618           0.0           0.0           0.0                  NaN  \n14619           0.0           0.0           0.0                  NaN  \n14620           0.0           0.0           0.0                  NaN  \n14621           0.0           0.0           0.0                  NaN  \n14622           0.0           0.0           0.0                  NaN  \n14623           0.0           0.0           0.0                  NaN  \n14624           0.0           0.0           0.0                  NaN  \n14625           0.0           0.0           0.0                  NaN  ",
      "text/html": "<div>\n<style scoped>\n    .dataframe tbody tr th:only-of-type {\n        vertical-align: middle;\n    }\n\n    .dataframe tbody tr th {\n        vertical-align: top;\n    }\n\n    .dataframe thead th {\n        text-align: right;\n    }\n</style>\n<table border=\"1\" class=\"dataframe\">\n  <thead>\n    <tr style=\"text-align: right;\">\n      <th></th>\n      <th>date</th>\n      <th>region</th>\n      <th>iso3</th>\n      <th>deaths</th>\n      <th>cases</th>\n      <th>recovered</th>\n      <th>population</th>\n      <th>continent</th>\n      <th>daily cases</th>\n      <th>daily deaths</th>\n      <th>cases/1M capita</th>\n      <th>deaths/1M capita</th>\n      <th>recovered(%)</th>\n      <th>lethality(%)</th>\n      <th>mortality(‰)</th>\n      <th>recovered/deaths(%)</th>\n    </tr>\n  </thead>\n  <tbody>\n    <tr>\n      <th>14616</th>\n      <td>2020-01-22</td>\n      <td>US</td>\n      <td>USA</td>\n      <td>0</td>\n      <td>1</td>\n      <td>0</td>\n      <td>327167434</td>\n      <td>NA</td>\n      <td>NaN</td>\n      <td>-1769.0</td>\n      <td>0.0</td>\n      <td>0.0</td>\n      <td>0.0</td>\n      <td>0.0</td>\n      <td>0.0</td>\n      <td>NaN</td>\n    </tr>\n    <tr>\n      <th>14617</th>\n      <td>2020-01-23</td>\n      <td>US</td>\n      <td>USA</td>\n      <td>0</td>\n      <td>1</td>\n      <td>0</td>\n      <td>327167434</td>\n      <td>NA</td>\n      <td>0.0</td>\n      <td>0.0</td>\n      <td>0.0</td>\n      <td>0.0</td>\n      <td>0.0</td>\n      <td>0.0</td>\n      <td>0.0</td>\n      <td>NaN</td>\n    </tr>\n    <tr>\n      <th>14618</th>\n      <td>2020-01-24</td>\n      <td>US</td>\n      <td>USA</td>\n      <td>0</td>\n      <td>2</td>\n      <td>0</td>\n      <td>327167434</td>\n      <td>NA</td>\n      <td>1.0</td>\n      <td>0.0</td>\n      <td>0.0</td>\n      <td>0.0</td>\n      <td>0.0</td>\n      <td>0.0</td>\n      <td>0.0</td>\n      <td>NaN</td>\n    </tr>\n    <tr>\n      <th>14619</th>\n      <td>2020-01-25</td>\n      <td>US</td>\n      <td>USA</td>\n      <td>0</td>\n      <td>2</td>\n      <td>0</td>\n      <td>327167434</td>\n      <td>NA</td>\n      <td>0.0</td>\n      <td>0.0</td>\n      <td>0.0</td>\n      <td>0.0</td>\n      <td>0.0</td>\n      <td>0.0</td>\n      <td>0.0</td>\n      <td>NaN</td>\n    </tr>\n    <tr>\n      <th>14620</th>\n      <td>2020-01-26</td>\n      <td>US</td>\n      <td>USA</td>\n      <td>0</td>\n      <td>5</td>\n      <td>0</td>\n      <td>327167434</td>\n      <td>NA</td>\n      <td>3.0</td>\n      <td>0.0</td>\n      <td>0.0</td>\n      <td>0.0</td>\n      <td>0.0</td>\n      <td>0.0</td>\n      <td>0.0</td>\n      <td>NaN</td>\n    </tr>\n    <tr>\n      <th>14621</th>\n      <td>2020-01-27</td>\n      <td>US</td>\n      <td>USA</td>\n      <td>0</td>\n      <td>5</td>\n      <td>0</td>\n      <td>327167434</td>\n      <td>NA</td>\n      <td>0.0</td>\n      <td>0.0</td>\n      <td>0.0</td>\n      <td>0.0</td>\n      <td>0.0</td>\n      <td>0.0</td>\n      <td>0.0</td>\n      <td>NaN</td>\n    </tr>\n    <tr>\n      <th>14622</th>\n      <td>2020-01-28</td>\n      <td>US</td>\n      <td>USA</td>\n      <td>0</td>\n      <td>5</td>\n      <td>0</td>\n      <td>327167434</td>\n      <td>NA</td>\n      <td>0.0</td>\n      <td>0.0</td>\n      <td>0.0</td>\n      <td>0.0</td>\n      <td>0.0</td>\n      <td>0.0</td>\n      <td>0.0</td>\n      <td>NaN</td>\n    </tr>\n    <tr>\n      <th>14623</th>\n      <td>2020-01-29</td>\n      <td>US</td>\n      <td>USA</td>\n      <td>0</td>\n      <td>5</td>\n      <td>0</td>\n      <td>327167434</td>\n      <td>NA</td>\n      <td>0.0</td>\n      <td>0.0</td>\n      <td>0.0</td>\n      <td>0.0</td>\n      <td>0.0</td>\n      <td>0.0</td>\n      <td>0.0</td>\n      <td>NaN</td>\n    </tr>\n    <tr>\n      <th>14624</th>\n      <td>2020-01-30</td>\n      <td>US</td>\n      <td>USA</td>\n      <td>0</td>\n      <td>5</td>\n      <td>0</td>\n      <td>327167434</td>\n      <td>NA</td>\n      <td>0.0</td>\n      <td>0.0</td>\n      <td>0.0</td>\n      <td>0.0</td>\n      <td>0.0</td>\n      <td>0.0</td>\n      <td>0.0</td>\n      <td>NaN</td>\n    </tr>\n    <tr>\n      <th>14625</th>\n      <td>2020-01-31</td>\n      <td>US</td>\n      <td>USA</td>\n      <td>0</td>\n      <td>7</td>\n      <td>0</td>\n      <td>327167434</td>\n      <td>NA</td>\n      <td>2.0</td>\n      <td>0.0</td>\n      <td>0.0</td>\n      <td>0.0</td>\n      <td>0.0</td>\n      <td>0.0</td>\n      <td>0.0</td>\n      <td>NaN</td>\n    </tr>\n  </tbody>\n</table>\n</div>"
     },
     "metadata": {},
     "execution_count": 109
    }
   ],
   "source": [
    "timeseries_France.loc[:, \"daily cases\"] = (timeseries_France.cases.diff() * 1).round(0)\n",
    "timeseries_France.head(10)"
   ]
  },
  {
   "cell_type": "code",
   "execution_count": 123,
   "metadata": {},
   "outputs": [],
   "source": [
    "#timeseries_France.loc[:, \"name\"] = (timeseries_France.loc[:, \"cases\"] * 1).round(0)\n",
    "data.timeseries.to_csv(\"test.csv\")"
   ]
  },
  {
   "cell_type": "code",
   "execution_count": 125,
   "metadata": {},
   "outputs": [
    {
     "output_type": "execute_result",
     "data": {
      "text/plain": "       Unnamed: 0        date    region   iso3  deaths  cases  recovered  \\\n0               0  2020-01-22        AF  False       0      0          0   \n1               1  2020-01-22        AS  False      17    554         28   \n2               2  2020-01-22        EU  False       0      0          0   \n3               3  2020-01-22       NaN  False       0      1          0   \n4               4  2020-01-22        OC  False       0      0          0   \n...           ...         ...       ...    ...     ...    ...        ...   \n16438       15829  2020-04-13  Zimbabwe    ZWE       3     17          0   \n16439       15830  2020-04-14  Zimbabwe    ZWE       3     17          0   \n16440       15831  2020-04-15  Zimbabwe    ZWE       3     23          1   \n16441       15832  2020-04-16  Zimbabwe    ZWE       3     23          1   \n16442       15833  2020-04-17  Zimbabwe    ZWE       3     24          2   \n\n       population continent  daily cases  daily deaths  cases/1M capita  \\\n0      1264761817        AF          NaN           NaN              0.0   \n1      4474285900        AS        554.0          17.0              0.0   \n2       745571470        EU       -554.0         -17.0              0.0   \n3       578407428       NaN          1.0           0.0              0.0   \n4        40635640        OC         -1.0           0.0              0.0   \n...           ...       ...          ...           ...              ...   \n16438    14439018        AF          3.0           0.0              0.0   \n16439    14439018        AF          0.0           0.0              0.0   \n16440    14439018        AF          6.0           0.0              0.0   \n16441    14439018        AF          0.0           0.0              0.0   \n16442    14439018        AF          1.0           0.0              0.0   \n\n       deaths/1M capita  recovered(%)  lethality(%)  mortality(‰)  \\\n0                   0.0           NaN           NaN           0.0   \n1                   0.0           5.0          3.07           0.0   \n2                   0.0           NaN           NaN           0.0   \n3                   0.0           0.0          0.00           0.0   \n4                   0.0           NaN           NaN           0.0   \n...                 ...           ...           ...           ...   \n16438               0.0           0.0         17.65           0.0   \n16439               0.0           0.0         17.65           0.0   \n16440               0.0           4.0         13.04           0.0   \n16441               0.0           4.0         13.04           0.0   \n16442               0.0           8.0         12.50           0.0   \n\n       recovered/deaths(%)  \n0                      NaN  \n1                   164.71  \n2                      NaN  \n3                      NaN  \n4                      NaN  \n...                    ...  \n16438                 0.00  \n16439                 0.00  \n16440                33.33  \n16441                33.33  \n16442                66.67  \n\n[16443 rows x 17 columns]",
      "text/html": "<div>\n<style scoped>\n    .dataframe tbody tr th:only-of-type {\n        vertical-align: middle;\n    }\n\n    .dataframe tbody tr th {\n        vertical-align: top;\n    }\n\n    .dataframe thead th {\n        text-align: right;\n    }\n</style>\n<table border=\"1\" class=\"dataframe\">\n  <thead>\n    <tr style=\"text-align: right;\">\n      <th></th>\n      <th>Unnamed: 0</th>\n      <th>date</th>\n      <th>region</th>\n      <th>iso3</th>\n      <th>deaths</th>\n      <th>cases</th>\n      <th>recovered</th>\n      <th>population</th>\n      <th>continent</th>\n      <th>daily cases</th>\n      <th>daily deaths</th>\n      <th>cases/1M capita</th>\n      <th>deaths/1M capita</th>\n      <th>recovered(%)</th>\n      <th>lethality(%)</th>\n      <th>mortality(‰)</th>\n      <th>recovered/deaths(%)</th>\n    </tr>\n  </thead>\n  <tbody>\n    <tr>\n      <th>0</th>\n      <td>0</td>\n      <td>2020-01-22</td>\n      <td>AF</td>\n      <td>False</td>\n      <td>0</td>\n      <td>0</td>\n      <td>0</td>\n      <td>1264761817</td>\n      <td>AF</td>\n      <td>NaN</td>\n      <td>NaN</td>\n      <td>0.0</td>\n      <td>0.0</td>\n      <td>NaN</td>\n      <td>NaN</td>\n      <td>0.0</td>\n      <td>NaN</td>\n    </tr>\n    <tr>\n      <th>1</th>\n      <td>1</td>\n      <td>2020-01-22</td>\n      <td>AS</td>\n      <td>False</td>\n      <td>17</td>\n      <td>554</td>\n      <td>28</td>\n      <td>4474285900</td>\n      <td>AS</td>\n      <td>554.0</td>\n      <td>17.0</td>\n      <td>0.0</td>\n      <td>0.0</td>\n      <td>5.0</td>\n      <td>3.07</td>\n      <td>0.0</td>\n      <td>164.71</td>\n    </tr>\n    <tr>\n      <th>2</th>\n      <td>2</td>\n      <td>2020-01-22</td>\n      <td>EU</td>\n      <td>False</td>\n      <td>0</td>\n      <td>0</td>\n      <td>0</td>\n      <td>745571470</td>\n      <td>EU</td>\n      <td>-554.0</td>\n      <td>-17.0</td>\n      <td>0.0</td>\n      <td>0.0</td>\n      <td>NaN</td>\n      <td>NaN</td>\n      <td>0.0</td>\n      <td>NaN</td>\n    </tr>\n    <tr>\n      <th>3</th>\n      <td>3</td>\n      <td>2020-01-22</td>\n      <td>NaN</td>\n      <td>False</td>\n      <td>0</td>\n      <td>1</td>\n      <td>0</td>\n      <td>578407428</td>\n      <td>NaN</td>\n      <td>1.0</td>\n      <td>0.0</td>\n      <td>0.0</td>\n      <td>0.0</td>\n      <td>0.0</td>\n      <td>0.00</td>\n      <td>0.0</td>\n      <td>NaN</td>\n    </tr>\n    <tr>\n      <th>4</th>\n      <td>4</td>\n      <td>2020-01-22</td>\n      <td>OC</td>\n      <td>False</td>\n      <td>0</td>\n      <td>0</td>\n      <td>0</td>\n      <td>40635640</td>\n      <td>OC</td>\n      <td>-1.0</td>\n      <td>0.0</td>\n      <td>0.0</td>\n      <td>0.0</td>\n      <td>NaN</td>\n      <td>NaN</td>\n      <td>0.0</td>\n      <td>NaN</td>\n    </tr>\n    <tr>\n      <th>...</th>\n      <td>...</td>\n      <td>...</td>\n      <td>...</td>\n      <td>...</td>\n      <td>...</td>\n      <td>...</td>\n      <td>...</td>\n      <td>...</td>\n      <td>...</td>\n      <td>...</td>\n      <td>...</td>\n      <td>...</td>\n      <td>...</td>\n      <td>...</td>\n      <td>...</td>\n      <td>...</td>\n      <td>...</td>\n    </tr>\n    <tr>\n      <th>16438</th>\n      <td>15829</td>\n      <td>2020-04-13</td>\n      <td>Zimbabwe</td>\n      <td>ZWE</td>\n      <td>3</td>\n      <td>17</td>\n      <td>0</td>\n      <td>14439018</td>\n      <td>AF</td>\n      <td>3.0</td>\n      <td>0.0</td>\n      <td>0.0</td>\n      <td>0.0</td>\n      <td>0.0</td>\n      <td>17.65</td>\n      <td>0.0</td>\n      <td>0.00</td>\n    </tr>\n    <tr>\n      <th>16439</th>\n      <td>15830</td>\n      <td>2020-04-14</td>\n      <td>Zimbabwe</td>\n      <td>ZWE</td>\n      <td>3</td>\n      <td>17</td>\n      <td>0</td>\n      <td>14439018</td>\n      <td>AF</td>\n      <td>0.0</td>\n      <td>0.0</td>\n      <td>0.0</td>\n      <td>0.0</td>\n      <td>0.0</td>\n      <td>17.65</td>\n      <td>0.0</td>\n      <td>0.00</td>\n    </tr>\n    <tr>\n      <th>16440</th>\n      <td>15831</td>\n      <td>2020-04-15</td>\n      <td>Zimbabwe</td>\n      <td>ZWE</td>\n      <td>3</td>\n      <td>23</td>\n      <td>1</td>\n      <td>14439018</td>\n      <td>AF</td>\n      <td>6.0</td>\n      <td>0.0</td>\n      <td>0.0</td>\n      <td>0.0</td>\n      <td>4.0</td>\n      <td>13.04</td>\n      <td>0.0</td>\n      <td>33.33</td>\n    </tr>\n    <tr>\n      <th>16441</th>\n      <td>15832</td>\n      <td>2020-04-16</td>\n      <td>Zimbabwe</td>\n      <td>ZWE</td>\n      <td>3</td>\n      <td>23</td>\n      <td>1</td>\n      <td>14439018</td>\n      <td>AF</td>\n      <td>0.0</td>\n      <td>0.0</td>\n      <td>0.0</td>\n      <td>0.0</td>\n      <td>4.0</td>\n      <td>13.04</td>\n      <td>0.0</td>\n      <td>33.33</td>\n    </tr>\n    <tr>\n      <th>16442</th>\n      <td>15833</td>\n      <td>2020-04-17</td>\n      <td>Zimbabwe</td>\n      <td>ZWE</td>\n      <td>3</td>\n      <td>24</td>\n      <td>2</td>\n      <td>14439018</td>\n      <td>AF</td>\n      <td>1.0</td>\n      <td>0.0</td>\n      <td>0.0</td>\n      <td>0.0</td>\n      <td>8.0</td>\n      <td>12.50</td>\n      <td>0.0</td>\n      <td>66.67</td>\n    </tr>\n  </tbody>\n</table>\n<p>16443 rows × 17 columns</p>\n</div>"
     },
     "metadata": {},
     "execution_count": 125
    }
   ],
   "source": [
    "test = pd.read_csv(\"test.csv\")\n",
    "test"
   ]
  },
  {
   "cell_type": "code",
   "execution_count": null,
   "metadata": {},
   "outputs": [],
   "source": []
  },
  {
   "cell_type": "code",
   "execution_count": 130,
   "metadata": {},
   "outputs": [],
   "source": [
    "class Test:\n",
    "    def __init__(self):\n",
    "        self.data = pd.read_csv(\"test.csv\")\n",
    "\n",
    "    def select(self,country):\n",
    "        select = self.data[self.data.region==country]\n",
    "        return select"
   ]
  },
  {
   "cell_type": "code",
   "execution_count": 131,
   "metadata": {},
   "outputs": [],
   "source": [
    "testen = Test()"
   ]
  },
  {
   "cell_type": "code",
   "execution_count": 134,
   "metadata": {},
   "outputs": [
    {
     "output_type": "execute_result",
     "data": {
      "text/plain": "       Unnamed: 0        date region iso3  deaths   cases  recovered  \\\n15225       14616  2020-01-22     US  USA       0       1          0   \n15226       14617  2020-01-23     US  USA       0       1          0   \n15227       14618  2020-01-24     US  USA       0       2          0   \n15228       14619  2020-01-25     US  USA       0       2          0   \n15229       14620  2020-01-26     US  USA       0       5          0   \n...           ...         ...    ...  ...     ...     ...        ...   \n15307       14698  2020-04-13     US  USA   23528  580619      43482   \n15308       14699  2020-04-14     US  USA   25831  607670      47763   \n15309       14700  2020-04-15     US  USA   28325  636350      52096   \n15310       14701  2020-04-16     US  USA   32916  667801      54703   \n15311       14702  2020-04-17     US  USA   36773  699706      58545   \n\n       population continent  daily cases  daily deaths  cases/1M capita  \\\n15225   327167434       NaN     -78545.0       -1769.0              0.0   \n15226   327167434       NaN          0.0           0.0              0.0   \n15227   327167434       NaN          1.0           0.0              0.0   \n15228   327167434       NaN          0.0           0.0              0.0   \n15229   327167434       NaN          3.0           0.0              0.0   \n...           ...       ...          ...           ...              ...   \n15307   327167434       NaN      25306.0        1509.0            177.0   \n15308   327167434       NaN      27051.0        2303.0            186.0   \n15309   327167434       NaN      28680.0        2494.0            195.0   \n15310   327167434       NaN      31451.0        4591.0            204.0   \n15311   327167434       NaN      31905.0        3857.0            214.0   \n\n       deaths/1M capita  recovered(%)  lethality(%)  mortality(‰)  \\\n15225               0.0           0.0          0.00          0.00   \n15226               0.0           0.0          0.00          0.00   \n15227               0.0           0.0          0.00          0.00   \n15228               0.0           0.0          0.00          0.00   \n15229               0.0           0.0          0.00          0.00   \n...                 ...           ...           ...           ...   \n15307               7.2           7.0          4.05          0.07   \n15308               7.9           8.0          4.25          0.08   \n15309               8.7           8.0          4.45          0.09   \n15310              10.1           8.0          4.93          0.10   \n15311              11.2           8.0          5.26          0.11   \n\n       recovered/deaths(%)  \n15225                  NaN  \n15226                  NaN  \n15227                  NaN  \n15228                  NaN  \n15229                  NaN  \n...                    ...  \n15307               184.81  \n15308               184.91  \n15309               183.92  \n15310               166.19  \n15311               159.21  \n\n[87 rows x 17 columns]",
      "text/html": "<div>\n<style scoped>\n    .dataframe tbody tr th:only-of-type {\n        vertical-align: middle;\n    }\n\n    .dataframe tbody tr th {\n        vertical-align: top;\n    }\n\n    .dataframe thead th {\n        text-align: right;\n    }\n</style>\n<table border=\"1\" class=\"dataframe\">\n  <thead>\n    <tr style=\"text-align: right;\">\n      <th></th>\n      <th>Unnamed: 0</th>\n      <th>date</th>\n      <th>region</th>\n      <th>iso3</th>\n      <th>deaths</th>\n      <th>cases</th>\n      <th>recovered</th>\n      <th>population</th>\n      <th>continent</th>\n      <th>daily cases</th>\n      <th>daily deaths</th>\n      <th>cases/1M capita</th>\n      <th>deaths/1M capita</th>\n      <th>recovered(%)</th>\n      <th>lethality(%)</th>\n      <th>mortality(‰)</th>\n      <th>recovered/deaths(%)</th>\n    </tr>\n  </thead>\n  <tbody>\n    <tr>\n      <th>15225</th>\n      <td>14616</td>\n      <td>2020-01-22</td>\n      <td>US</td>\n      <td>USA</td>\n      <td>0</td>\n      <td>1</td>\n      <td>0</td>\n      <td>327167434</td>\n      <td>NaN</td>\n      <td>-78545.0</td>\n      <td>-1769.0</td>\n      <td>0.0</td>\n      <td>0.0</td>\n      <td>0.0</td>\n      <td>0.00</td>\n      <td>0.00</td>\n      <td>NaN</td>\n    </tr>\n    <tr>\n      <th>15226</th>\n      <td>14617</td>\n      <td>2020-01-23</td>\n      <td>US</td>\n      <td>USA</td>\n      <td>0</td>\n      <td>1</td>\n      <td>0</td>\n      <td>327167434</td>\n      <td>NaN</td>\n      <td>0.0</td>\n      <td>0.0</td>\n      <td>0.0</td>\n      <td>0.0</td>\n      <td>0.0</td>\n      <td>0.00</td>\n      <td>0.00</td>\n      <td>NaN</td>\n    </tr>\n    <tr>\n      <th>15227</th>\n      <td>14618</td>\n      <td>2020-01-24</td>\n      <td>US</td>\n      <td>USA</td>\n      <td>0</td>\n      <td>2</td>\n      <td>0</td>\n      <td>327167434</td>\n      <td>NaN</td>\n      <td>1.0</td>\n      <td>0.0</td>\n      <td>0.0</td>\n      <td>0.0</td>\n      <td>0.0</td>\n      <td>0.00</td>\n      <td>0.00</td>\n      <td>NaN</td>\n    </tr>\n    <tr>\n      <th>15228</th>\n      <td>14619</td>\n      <td>2020-01-25</td>\n      <td>US</td>\n      <td>USA</td>\n      <td>0</td>\n      <td>2</td>\n      <td>0</td>\n      <td>327167434</td>\n      <td>NaN</td>\n      <td>0.0</td>\n      <td>0.0</td>\n      <td>0.0</td>\n      <td>0.0</td>\n      <td>0.0</td>\n      <td>0.00</td>\n      <td>0.00</td>\n      <td>NaN</td>\n    </tr>\n    <tr>\n      <th>15229</th>\n      <td>14620</td>\n      <td>2020-01-26</td>\n      <td>US</td>\n      <td>USA</td>\n      <td>0</td>\n      <td>5</td>\n      <td>0</td>\n      <td>327167434</td>\n      <td>NaN</td>\n      <td>3.0</td>\n      <td>0.0</td>\n      <td>0.0</td>\n      <td>0.0</td>\n      <td>0.0</td>\n      <td>0.00</td>\n      <td>0.00</td>\n      <td>NaN</td>\n    </tr>\n    <tr>\n      <th>...</th>\n      <td>...</td>\n      <td>...</td>\n      <td>...</td>\n      <td>...</td>\n      <td>...</td>\n      <td>...</td>\n      <td>...</td>\n      <td>...</td>\n      <td>...</td>\n      <td>...</td>\n      <td>...</td>\n      <td>...</td>\n      <td>...</td>\n      <td>...</td>\n      <td>...</td>\n      <td>...</td>\n      <td>...</td>\n    </tr>\n    <tr>\n      <th>15307</th>\n      <td>14698</td>\n      <td>2020-04-13</td>\n      <td>US</td>\n      <td>USA</td>\n      <td>23528</td>\n      <td>580619</td>\n      <td>43482</td>\n      <td>327167434</td>\n      <td>NaN</td>\n      <td>25306.0</td>\n      <td>1509.0</td>\n      <td>177.0</td>\n      <td>7.2</td>\n      <td>7.0</td>\n      <td>4.05</td>\n      <td>0.07</td>\n      <td>184.81</td>\n    </tr>\n    <tr>\n      <th>15308</th>\n      <td>14699</td>\n      <td>2020-04-14</td>\n      <td>US</td>\n      <td>USA</td>\n      <td>25831</td>\n      <td>607670</td>\n      <td>47763</td>\n      <td>327167434</td>\n      <td>NaN</td>\n      <td>27051.0</td>\n      <td>2303.0</td>\n      <td>186.0</td>\n      <td>7.9</td>\n      <td>8.0</td>\n      <td>4.25</td>\n      <td>0.08</td>\n      <td>184.91</td>\n    </tr>\n    <tr>\n      <th>15309</th>\n      <td>14700</td>\n      <td>2020-04-15</td>\n      <td>US</td>\n      <td>USA</td>\n      <td>28325</td>\n      <td>636350</td>\n      <td>52096</td>\n      <td>327167434</td>\n      <td>NaN</td>\n      <td>28680.0</td>\n      <td>2494.0</td>\n      <td>195.0</td>\n      <td>8.7</td>\n      <td>8.0</td>\n      <td>4.45</td>\n      <td>0.09</td>\n      <td>183.92</td>\n    </tr>\n    <tr>\n      <th>15310</th>\n      <td>14701</td>\n      <td>2020-04-16</td>\n      <td>US</td>\n      <td>USA</td>\n      <td>32916</td>\n      <td>667801</td>\n      <td>54703</td>\n      <td>327167434</td>\n      <td>NaN</td>\n      <td>31451.0</td>\n      <td>4591.0</td>\n      <td>204.0</td>\n      <td>10.1</td>\n      <td>8.0</td>\n      <td>4.93</td>\n      <td>0.10</td>\n      <td>166.19</td>\n    </tr>\n    <tr>\n      <th>15311</th>\n      <td>14702</td>\n      <td>2020-04-17</td>\n      <td>US</td>\n      <td>USA</td>\n      <td>36773</td>\n      <td>699706</td>\n      <td>58545</td>\n      <td>327167434</td>\n      <td>NaN</td>\n      <td>31905.0</td>\n      <td>3857.0</td>\n      <td>214.0</td>\n      <td>11.2</td>\n      <td>8.0</td>\n      <td>5.26</td>\n      <td>0.11</td>\n      <td>159.21</td>\n    </tr>\n  </tbody>\n</table>\n<p>87 rows × 17 columns</p>\n</div>"
     },
     "metadata": {},
     "execution_count": 134
    }
   ],
   "source": [
    "selection = testen.select(\"US\")\n",
    "selection"
   ]
  }
 ]
}