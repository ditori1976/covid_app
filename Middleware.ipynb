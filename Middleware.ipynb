{
 "nbformat": 4,
 "nbformat_minor": 2,
 "metadata": {
  "language_info": {
   "name": "python",
   "codemirror_mode": {
    "name": "ipython",
    "version": 3
   },
   "version": "3.7.7-final"
  },
  "orig_nbformat": 2,
  "file_extension": ".py",
  "mimetype": "text/x-python",
  "name": "python",
  "npconvert_exporter": "python",
  "pygments_lexer": "ipython3",
  "version": 3,
  "kernelspec": {
   "name": "python3",
   "display_name": "Python 3"
  }
 },
 "cells": [
  {
   "cell_type": "code",
   "execution_count": 1,
   "metadata": {},
   "outputs": [],
   "source": [
    "%load_ext autoreload"
   ]
  },
  {
   "cell_type": "code",
   "execution_count": 42,
   "metadata": {},
   "outputs": [
    {
     "output_type": "stream",
     "name": "stdout",
     "text": "Modules to reload:\nall-except-skipped\n\nModules to skip:\n\n"
    }
   ],
   "source": [
    "%autoreload 2\n",
    "\n",
    "import pandas as pd\n",
    "\n",
    "from tools import DataLoader\n",
    "from configparser import ConfigParser\n",
    "\n",
    "# configuration\n",
    "parser = ConfigParser()\n",
    "parser.read(\"settings.ini\")\n",
    "\n",
    "%aimport"
   ]
  },
  {
   "cell_type": "code",
   "execution_count": 43,
   "metadata": {},
   "outputs": [
    {
     "output_type": "stream",
     "name": "stdout",
     "text": "CPU times: user 2.07 s, sys: 73.9 ms, total: 2.15 s\nWall time: 6.24 s\n"
    }
   ],
   "source": [
    "%%time\n",
    "data = DataLoader(parser)"
   ]
  },
  {
   "cell_type": "code",
   "execution_count": 45,
   "metadata": {},
   "outputs": [
    {
     "output_type": "execute_result",
     "data": {
      "text/plain": "<bound method Transform.latest_data of <tools.data_loader.DataLoader object at 0x11aad7150>>"
     },
     "metadata": {},
     "execution_count": 45
    }
   ],
   "source": [
    "data.latest_data"
   ]
  },
  {
   "cell_type": "code",
   "execution_count": null,
   "metadata": {},
   "outputs": [],
   "source": []
  },
  {
   "cell_type": "code",
   "execution_count": 28,
   "metadata": {},
   "outputs": [
    {
     "output_type": "execute_result",
     "data": {
      "text/plain": "         date region   iso3  deaths  cases  recovered  population continent  \\\n0  2020-01-22     AF  False       0      0          0  1264761817        AF   \n6  2020-01-23     AF  False       0      0          0  1264761817        AF   \n12 2020-01-24     AF  False       0      0          0  1264761817        AF   \n\n    cases/1M capita  deaths/1M capita  recovered(%)  lethality(%)  \\\n0               0.0               0.0           NaN           NaN   \n6               0.0               0.0           NaN           NaN   \n12              0.0               0.0           NaN           NaN   \n\n    mortality(‰)  recovered/deaths(%)  \n0            0.0                  NaN  \n6            0.0                  NaN  \n12           0.0                  NaN  ",
      "text/html": "<div>\n<style scoped>\n    .dataframe tbody tr th:only-of-type {\n        vertical-align: middle;\n    }\n\n    .dataframe tbody tr th {\n        vertical-align: top;\n    }\n\n    .dataframe thead th {\n        text-align: right;\n    }\n</style>\n<table border=\"1\" class=\"dataframe\">\n  <thead>\n    <tr style=\"text-align: right;\">\n      <th></th>\n      <th>date</th>\n      <th>region</th>\n      <th>iso3</th>\n      <th>deaths</th>\n      <th>cases</th>\n      <th>recovered</th>\n      <th>population</th>\n      <th>continent</th>\n      <th>cases/1M capita</th>\n      <th>deaths/1M capita</th>\n      <th>recovered(%)</th>\n      <th>lethality(%)</th>\n      <th>mortality(‰)</th>\n      <th>recovered/deaths(%)</th>\n    </tr>\n  </thead>\n  <tbody>\n    <tr>\n      <th>0</th>\n      <td>2020-01-22</td>\n      <td>AF</td>\n      <td>False</td>\n      <td>0</td>\n      <td>0</td>\n      <td>0</td>\n      <td>1264761817</td>\n      <td>AF</td>\n      <td>0.0</td>\n      <td>0.0</td>\n      <td>NaN</td>\n      <td>NaN</td>\n      <td>0.0</td>\n      <td>NaN</td>\n    </tr>\n    <tr>\n      <th>6</th>\n      <td>2020-01-23</td>\n      <td>AF</td>\n      <td>False</td>\n      <td>0</td>\n      <td>0</td>\n      <td>0</td>\n      <td>1264761817</td>\n      <td>AF</td>\n      <td>0.0</td>\n      <td>0.0</td>\n      <td>NaN</td>\n      <td>NaN</td>\n      <td>0.0</td>\n      <td>NaN</td>\n    </tr>\n    <tr>\n      <th>12</th>\n      <td>2020-01-24</td>\n      <td>AF</td>\n      <td>False</td>\n      <td>0</td>\n      <td>0</td>\n      <td>0</td>\n      <td>1264761817</td>\n      <td>AF</td>\n      <td>0.0</td>\n      <td>0.0</td>\n      <td>NaN</td>\n      <td>NaN</td>\n      <td>0.0</td>\n      <td>NaN</td>\n    </tr>\n  </tbody>\n</table>\n</div>"
     },
     "metadata": {},
     "execution_count": 28
    }
   ],
   "source": [
    "data.timeseries[data.timeseries.region==\"AF\"].head(3)"
   ]
  },
  {
   "cell_type": "code",
   "execution_count": 36,
   "metadata": {},
   "outputs": [
    {
     "output_type": "execute_result",
     "data": {
      "text/plain": "          date region   iso3  deaths   cases  recovered  population continent  \\\n510 2020-04-16     AF  False     965   18366       4279  1264761817        AF   \n511 2020-04-16     AS  False   12402  344611     165635  4474285900        AS   \n512 2020-04-16     EU  False   92276  998657     275214   745571470        EU   \n\n     cases/1M capita  deaths/1M capita  recovered(%)  lethality(%)  \\\n510              1.0               0.1          23.0          5.25   \n511              8.0               0.3          48.0          3.60   \n512            134.0              12.4          28.0          9.24   \n\n     mortality(‰)  recovered/deaths(%)  \n510          0.00               443.42  \n511          0.00              1335.55  \n512          0.12               298.25  ",
      "text/html": "<div>\n<style scoped>\n    .dataframe tbody tr th:only-of-type {\n        vertical-align: middle;\n    }\n\n    .dataframe tbody tr th {\n        vertical-align: top;\n    }\n\n    .dataframe thead th {\n        text-align: right;\n    }\n</style>\n<table border=\"1\" class=\"dataframe\">\n  <thead>\n    <tr style=\"text-align: right;\">\n      <th></th>\n      <th>date</th>\n      <th>region</th>\n      <th>iso3</th>\n      <th>deaths</th>\n      <th>cases</th>\n      <th>recovered</th>\n      <th>population</th>\n      <th>continent</th>\n      <th>cases/1M capita</th>\n      <th>deaths/1M capita</th>\n      <th>recovered(%)</th>\n      <th>lethality(%)</th>\n      <th>mortality(‰)</th>\n      <th>recovered/deaths(%)</th>\n    </tr>\n  </thead>\n  <tbody>\n    <tr>\n      <th>510</th>\n      <td>2020-04-16</td>\n      <td>AF</td>\n      <td>False</td>\n      <td>965</td>\n      <td>18366</td>\n      <td>4279</td>\n      <td>1264761817</td>\n      <td>AF</td>\n      <td>1.0</td>\n      <td>0.1</td>\n      <td>23.0</td>\n      <td>5.25</td>\n      <td>0.00</td>\n      <td>443.42</td>\n    </tr>\n    <tr>\n      <th>511</th>\n      <td>2020-04-16</td>\n      <td>AS</td>\n      <td>False</td>\n      <td>12402</td>\n      <td>344611</td>\n      <td>165635</td>\n      <td>4474285900</td>\n      <td>AS</td>\n      <td>8.0</td>\n      <td>0.3</td>\n      <td>48.0</td>\n      <td>3.60</td>\n      <td>0.00</td>\n      <td>1335.55</td>\n    </tr>\n    <tr>\n      <th>512</th>\n      <td>2020-04-16</td>\n      <td>EU</td>\n      <td>False</td>\n      <td>92276</td>\n      <td>998657</td>\n      <td>275214</td>\n      <td>745571470</td>\n      <td>EU</td>\n      <td>134.0</td>\n      <td>12.4</td>\n      <td>28.0</td>\n      <td>9.24</td>\n      <td>0.12</td>\n      <td>298.25</td>\n    </tr>\n  </tbody>\n</table>\n</div>"
     },
     "metadata": {},
     "execution_count": 36
    }
   ],
   "source": [
    "latest_data = data.timeseries[data.timeseries.date==data.timeseries.date.max()]\n",
    "latest_data.head(3)"
   ]
  },
  {
   "cell_type": "code",
   "execution_count": 46,
   "metadata": {},
   "outputs": [],
   "source": [
    "indicator = \"cases\"\n",
    "region = \"France\"\n",
    "continent = \"EU\"\n",
    "# continent can be taken from region\n",
    "# choose from map: region\n",
    "# choose from tab: continent\n",
    ""
   ]
  },
  {
   "cell_type": "code",
   "execution_count": 47,
   "metadata": {},
   "outputs": [
    {
     "output_type": "execute_result",
     "data": {
      "text/plain": "         date region   iso3  deaths  cases  recovered  population continent  \\\n2  2020-01-22     EU  False       0      0          0   745571470        EU   \n8  2020-01-23     EU  False       0      0          0   745571470        EU   \n14 2020-01-24     EU  False       0      2          0   745571470        EU   \n\n    cases/1M capita  deaths/1M capita  recovered(%)  lethality(%)  \\\n2               0.0               0.0           NaN           NaN   \n8               0.0               0.0           NaN           NaN   \n14              0.0               0.0           0.0           0.0   \n\n    mortality(‰)  recovered/deaths(%)  \n2            0.0                  NaN  \n8            0.0                  NaN  \n14           0.0                  NaN  ",
      "text/html": "<div>\n<style scoped>\n    .dataframe tbody tr th:only-of-type {\n        vertical-align: middle;\n    }\n\n    .dataframe tbody tr th {\n        vertical-align: top;\n    }\n\n    .dataframe thead th {\n        text-align: right;\n    }\n</style>\n<table border=\"1\" class=\"dataframe\">\n  <thead>\n    <tr style=\"text-align: right;\">\n      <th></th>\n      <th>date</th>\n      <th>region</th>\n      <th>iso3</th>\n      <th>deaths</th>\n      <th>cases</th>\n      <th>recovered</th>\n      <th>population</th>\n      <th>continent</th>\n      <th>cases/1M capita</th>\n      <th>deaths/1M capita</th>\n      <th>recovered(%)</th>\n      <th>lethality(%)</th>\n      <th>mortality(‰)</th>\n      <th>recovered/deaths(%)</th>\n    </tr>\n  </thead>\n  <tbody>\n    <tr>\n      <th>2</th>\n      <td>2020-01-22</td>\n      <td>EU</td>\n      <td>False</td>\n      <td>0</td>\n      <td>0</td>\n      <td>0</td>\n      <td>745571470</td>\n      <td>EU</td>\n      <td>0.0</td>\n      <td>0.0</td>\n      <td>NaN</td>\n      <td>NaN</td>\n      <td>0.0</td>\n      <td>NaN</td>\n    </tr>\n    <tr>\n      <th>8</th>\n      <td>2020-01-23</td>\n      <td>EU</td>\n      <td>False</td>\n      <td>0</td>\n      <td>0</td>\n      <td>0</td>\n      <td>745571470</td>\n      <td>EU</td>\n      <td>0.0</td>\n      <td>0.0</td>\n      <td>NaN</td>\n      <td>NaN</td>\n      <td>0.0</td>\n      <td>NaN</td>\n    </tr>\n    <tr>\n      <th>14</th>\n      <td>2020-01-24</td>\n      <td>EU</td>\n      <td>False</td>\n      <td>0</td>\n      <td>2</td>\n      <td>0</td>\n      <td>745571470</td>\n      <td>EU</td>\n      <td>0.0</td>\n      <td>0.0</td>\n      <td>0.0</td>\n      <td>0.0</td>\n      <td>0.0</td>\n      <td>NaN</td>\n    </tr>\n  </tbody>\n</table>\n</div>"
     },
     "metadata": {},
     "execution_count": 47
    }
   ],
   "source": [
    "timeseries_EU = data.timeseries[data.timeseries.region==\"EU\"].head(3)\n",
    "timeseries_EU"
   ]
  },
  {
   "cell_type": "code",
   "execution_count": 49,
   "metadata": {},
   "outputs": [
    {
     "output_type": "execute_result",
     "data": {
      "text/plain": "5160    EU\n5161    EU\n5162    EU\nName: continent, dtype: object"
     },
     "metadata": {},
     "execution_count": 49
    }
   ],
   "source": [
    "timeseries_France = data.timeseries[data.timeseries.region==\"France\"].head(3)\n",
    "timeseries_France.continent"
   ]
  }
 ]
}